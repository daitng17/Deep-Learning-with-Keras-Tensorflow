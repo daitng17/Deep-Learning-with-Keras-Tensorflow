{
  "nbformat": 4,
  "nbformat_minor": 0,
  "metadata": {
    "colab": {
      "name": "convnet_sign_language_mnist.ipynb",
      "provenance": [],
      "mount_file_id": "1V0YeyvjnsXZsCc_wOkSa9AYvOqpzTdYZ",
      "authorship_tag": "ABX9TyPt4snfkGRzgI+Fm3MqoRC1",
      "include_colab_link": true
    },
    "kernelspec": {
      "name": "python3",
      "display_name": "Python 3"
    },
    "accelerator": "GPU"
  },
  "cells": [
    {
      "cell_type": "markdown",
      "metadata": {
        "id": "view-in-github",
        "colab_type": "text"
      },
      "source": [
        "<a href=\"https://colab.research.google.com/github/thanhdtnguyen/Deep-Learning-with-Keras-Tensorflow/blob/master/convnet_sign_language_mnist.ipynb\" target=\"_parent\"><img src=\"https://colab.research.google.com/assets/colab-badge.svg\" alt=\"Open In Colab\"/></a>"
      ]
    },
    {
      "cell_type": "code",
      "metadata": {
        "id": "rlGLlwkkwJrT",
        "colab_type": "code",
        "colab": {}
      },
      "source": [
        "import csv \n",
        "import os\n",
        "import numpy as np\n",
        "import pandas as pd\n",
        "import tensorflow as tf\n",
        "from tensorflow import keras\n",
        "from keras import layers\n",
        "from keras.preprocessing.image import ImageDataGenerator\n",
        "from keras.optimizers import RMSprop\n",
        "from google.colab import files"
      ],
      "execution_count": 1,
      "outputs": []
    },
    {
      "cell_type": "code",
      "metadata": {
        "id": "rkt6Eo57wvs0",
        "colab_type": "code",
        "colab": {}
      },
      "source": [
        "# function to get the data\n",
        "\n",
        "def get_data(filename):\n",
        "  with open(filename) as training_file:\n",
        "    sign_array = np.loadtxt(filename, delimiter = \",\", skiprows = 1)\n",
        "    labels = sign_array[:,0].astype(\"int\")\n",
        "    images = sign_array[:,1:]\n",
        "    images = images.astype(\"float\").reshape(images.shape[0],28,28)\n",
        "    sign_array = None\n",
        "  return images, labels\n",
        "\n",
        "path_train = \"/content/drive/My Drive/Colab Notebooks/TensorFlow in Practice/sign_mnist_train.csv\"\n",
        "path_test = \"/content/drive/My Drive/Colab Notebooks/TensorFlow in Practice/sign_mnist_test.csv\"\n",
        "\n",
        "training_images, training_labels = get_data(path_train)\n",
        "\n",
        "testing_images, testing_labels = get_data(path_test)"
      ],
      "execution_count": 21,
      "outputs": []
    },
    {
      "cell_type": "code",
      "metadata": {
        "id": "M0RYD1_CAILv",
        "colab_type": "code",
        "colab": {
          "base_uri": "https://localhost:8080/",
          "height": 85
        },
        "outputId": "589d0250-61bd-488c-816d-d7de55f9fc71"
      },
      "source": [
        "print(training_images.shape)\n",
        "print(training_labels.shape)\n",
        "print(testing_images.shape)\n",
        "print(testing_labels.shape)"
      ],
      "execution_count": 22,
      "outputs": [
        {
          "output_type": "stream",
          "text": [
            "(27455, 28, 28)\n",
            "(27455,)\n",
            "(7172, 28, 28)\n",
            "(7172,)\n"
          ],
          "name": "stdout"
        }
      ]
    },
    {
      "cell_type": "code",
      "metadata": {
        "id": "Rw70RyxzC3hW",
        "colab_type": "code",
        "colab": {
          "base_uri": "https://localhost:8080/",
          "height": 51
        },
        "outputId": "adeb6129-fd16-42f2-8a7f-0d6477fbce34"
      },
      "source": [
        "# add 1 more dimesion\n",
        "\n",
        "training_images = np.expand_dims(training_images, axis=3)\n",
        "testing_images = np.expand_dims(testing_images, axis=3)\n",
        "\n",
        "print(training_images.shape)\n",
        "print(testing_images.shape)"
      ],
      "execution_count": 23,
      "outputs": [
        {
          "output_type": "stream",
          "text": [
            "(27455, 28, 28, 1)\n",
            "(7172, 28, 28, 1)\n"
          ],
          "name": "stdout"
        }
      ]
    },
    {
      "cell_type": "code",
      "metadata": {
        "id": "4PrkRklO4Nfb",
        "colab_type": "code",
        "colab": {}
      },
      "source": [
        "train_datagen = ImageDataGenerator(rescale=1.0/255,\n",
        "                                   rotation_range=40,\n",
        "                                   shear_range=0.2,\n",
        "                                   zoom_range=0.2,\n",
        "                                   width_shift_range=0.2,\n",
        "                                   height_shift_range=0.2,\n",
        "                                   horizontal_flip=True,\n",
        "                                   fill_mode=\"nearest\")\n",
        "\n",
        "validation_datagen = ImageDataGenerator(rescale=1.0/255)"
      ],
      "execution_count": 24,
      "outputs": []
    },
    {
      "cell_type": "code",
      "metadata": {
        "id": "dD0md22B6arQ",
        "colab_type": "code",
        "colab": {
          "base_uri": "https://localhost:8080/",
          "height": 391
        },
        "outputId": "bddf8919-bbb3-47c1-d165-936437c6c2bd"
      },
      "source": [
        "model = keras.models.Sequential([layers.Conv2D(32, (3,3), activation=\"relu\", input_shape=(28,28,1)),\n",
        "                                 layers.MaxPooling2D(2,2),\n",
        "                                 layers.Conv2D(64, (3,3), activation=\"relu\"),\n",
        "                                 # layers.MaxPooling2D(2,2),\n",
        "                                 # layers.Conv2D(128, (3,3), activation=\"relu\"),\n",
        "                                 layers.MaxPooling2D(2,2),\n",
        "                                 layers.Flatten(),\n",
        "                                 # layers.Dropout(0.1),\n",
        "                                 layers.Dense(512, activation=\"relu\"),\n",
        "                                 layers.Dense(25, activation=\"softmax\")])\n",
        "\n",
        "model.compile(loss=\"sparse_categorical_crossentropy\", optimizer=RMSprop(lr=1e-3), metrics=[\"accuracy\"])\n",
        "\n",
        "model.summary()"
      ],
      "execution_count": 27,
      "outputs": [
        {
          "output_type": "stream",
          "text": [
            "Model: \"sequential_10\"\n",
            "_________________________________________________________________\n",
            "Layer (type)                 Output Shape              Param #   \n",
            "=================================================================\n",
            "conv2d_24 (Conv2D)           (None, 26, 26, 32)        320       \n",
            "_________________________________________________________________\n",
            "max_pooling2d_24 (MaxPooling (None, 13, 13, 32)        0         \n",
            "_________________________________________________________________\n",
            "conv2d_25 (Conv2D)           (None, 11, 11, 64)        18496     \n",
            "_________________________________________________________________\n",
            "max_pooling2d_25 (MaxPooling (None, 5, 5, 64)          0         \n",
            "_________________________________________________________________\n",
            "flatten_10 (Flatten)         (None, 1600)              0         \n",
            "_________________________________________________________________\n",
            "dense_20 (Dense)             (None, 512)               819712    \n",
            "_________________________________________________________________\n",
            "dense_21 (Dense)             (None, 25)                12825     \n",
            "=================================================================\n",
            "Total params: 851,353\n",
            "Trainable params: 851,353\n",
            "Non-trainable params: 0\n",
            "_________________________________________________________________\n"
          ],
          "name": "stdout"
        }
      ]
    },
    {
      "cell_type": "code",
      "metadata": {
        "id": "95VCnDjm74P_",
        "colab_type": "code",
        "colab": {
          "base_uri": "https://localhost:8080/",
          "height": 1000
        },
        "outputId": "3e3c149a-4dfc-4d0b-9696-488346a96354"
      },
      "source": [
        "# train the model\n",
        "\n",
        "train_generator = train_datagen.flow(training_images, training_labels, batch_size=64)\n",
        "\n",
        "validation_generator = validation_datagen.flow(testing_images, testing_labels, batch_size=32)\n",
        "\n",
        "history = model.fit(train_generator, \n",
        "                    validation_data=validation_generator, \n",
        "                    epochs=30)"
      ],
      "execution_count": 28,
      "outputs": [
        {
          "output_type": "stream",
          "text": [
            "Epoch 1/30\n",
            "429/429 [==============================] - 13s 31ms/step - loss: 2.7410 - accuracy: 0.1716 - val_loss: 2.0906 - val_accuracy: 0.3115\n",
            "Epoch 2/30\n",
            "429/429 [==============================] - 13s 31ms/step - loss: 2.0853 - accuracy: 0.3533 - val_loss: 1.6383 - val_accuracy: 0.4497\n",
            "Epoch 3/30\n",
            "429/429 [==============================] - 13s 31ms/step - loss: 1.6605 - accuracy: 0.4682 - val_loss: 1.0136 - val_accuracy: 0.6429\n",
            "Epoch 4/30\n",
            "429/429 [==============================] - 13s 31ms/step - loss: 1.3493 - accuracy: 0.5669 - val_loss: 0.6937 - val_accuracy: 0.7625\n",
            "Epoch 5/30\n",
            "429/429 [==============================] - 13s 31ms/step - loss: 1.1183 - accuracy: 0.6370 - val_loss: 0.5429 - val_accuracy: 0.8193\n",
            "Epoch 6/30\n",
            "429/429 [==============================] - 13s 31ms/step - loss: 0.9439 - accuracy: 0.6889 - val_loss: 0.3855 - val_accuracy: 0.8709\n",
            "Epoch 7/30\n",
            "429/429 [==============================] - 13s 31ms/step - loss: 0.8180 - accuracy: 0.7294 - val_loss: 0.3823 - val_accuracy: 0.8614\n",
            "Epoch 8/30\n",
            "429/429 [==============================] - 13s 31ms/step - loss: 0.7184 - accuracy: 0.7661 - val_loss: 0.3569 - val_accuracy: 0.8451\n",
            "Epoch 9/30\n",
            "429/429 [==============================] - 13s 31ms/step - loss: 0.6331 - accuracy: 0.7927 - val_loss: 0.2923 - val_accuracy: 0.9007\n",
            "Epoch 10/30\n",
            "429/429 [==============================] - 13s 30ms/step - loss: 0.5624 - accuracy: 0.8153 - val_loss: 0.2393 - val_accuracy: 0.9087\n",
            "Epoch 11/30\n",
            "429/429 [==============================] - 13s 30ms/step - loss: 0.5127 - accuracy: 0.8305 - val_loss: 0.2374 - val_accuracy: 0.9096\n",
            "Epoch 12/30\n",
            "429/429 [==============================] - 13s 30ms/step - loss: 0.4799 - accuracy: 0.8451 - val_loss: 0.2026 - val_accuracy: 0.9230\n",
            "Epoch 13/30\n",
            "429/429 [==============================] - 13s 30ms/step - loss: 0.4232 - accuracy: 0.8603 - val_loss: 0.1711 - val_accuracy: 0.9384\n",
            "Epoch 14/30\n",
            "429/429 [==============================] - 13s 31ms/step - loss: 0.3943 - accuracy: 0.8684 - val_loss: 0.2726 - val_accuracy: 0.9013\n",
            "Epoch 15/30\n",
            "429/429 [==============================] - 13s 30ms/step - loss: 0.3734 - accuracy: 0.8763 - val_loss: 0.1411 - val_accuracy: 0.9459\n",
            "Epoch 16/30\n",
            "429/429 [==============================] - 13s 31ms/step - loss: 0.3516 - accuracy: 0.8855 - val_loss: 0.1398 - val_accuracy: 0.9505\n",
            "Epoch 17/30\n",
            "429/429 [==============================] - 13s 30ms/step - loss: 0.3365 - accuracy: 0.8896 - val_loss: 0.1475 - val_accuracy: 0.9460\n",
            "Epoch 18/30\n",
            "429/429 [==============================] - 13s 30ms/step - loss: 0.3108 - accuracy: 0.8979 - val_loss: 0.1587 - val_accuracy: 0.9406\n",
            "Epoch 19/30\n",
            "429/429 [==============================] - 13s 30ms/step - loss: 0.2905 - accuracy: 0.9061 - val_loss: 0.1042 - val_accuracy: 0.9611\n",
            "Epoch 20/30\n",
            "429/429 [==============================] - 13s 30ms/step - loss: 0.2860 - accuracy: 0.9073 - val_loss: 0.0942 - val_accuracy: 0.9671\n",
            "Epoch 21/30\n",
            "429/429 [==============================] - 13s 30ms/step - loss: 0.2684 - accuracy: 0.9119 - val_loss: 0.0679 - val_accuracy: 0.9742\n",
            "Epoch 22/30\n",
            "429/429 [==============================] - 13s 29ms/step - loss: 0.2539 - accuracy: 0.9159 - val_loss: 0.0662 - val_accuracy: 0.9770\n",
            "Epoch 23/30\n",
            "429/429 [==============================] - 13s 30ms/step - loss: 0.2527 - accuracy: 0.9170 - val_loss: 0.0556 - val_accuracy: 0.9822\n",
            "Epoch 24/30\n",
            "429/429 [==============================] - 13s 29ms/step - loss: 0.2420 - accuracy: 0.9206 - val_loss: 0.0930 - val_accuracy: 0.9646\n",
            "Epoch 25/30\n",
            "429/429 [==============================] - 13s 30ms/step - loss: 0.2449 - accuracy: 0.9204 - val_loss: 0.0419 - val_accuracy: 0.9893\n",
            "Epoch 26/30\n",
            "429/429 [==============================] - 13s 30ms/step - loss: 0.2316 - accuracy: 0.9260 - val_loss: 0.0645 - val_accuracy: 0.9778\n",
            "Epoch 27/30\n",
            "429/429 [==============================] - 13s 30ms/step - loss: 0.2160 - accuracy: 0.9291 - val_loss: 0.0955 - val_accuracy: 0.9661\n",
            "Epoch 28/30\n",
            "429/429 [==============================] - 13s 30ms/step - loss: 0.2154 - accuracy: 0.9321 - val_loss: 0.0995 - val_accuracy: 0.9622\n",
            "Epoch 29/30\n",
            "429/429 [==============================] - 13s 31ms/step - loss: 0.2080 - accuracy: 0.9319 - val_loss: 0.0737 - val_accuracy: 0.9734\n",
            "Epoch 30/30\n",
            "429/429 [==============================] - 13s 30ms/step - loss: 0.2002 - accuracy: 0.9357 - val_loss: 0.0748 - val_accuracy: 0.9671\n"
          ],
          "name": "stdout"
        }
      ]
    },
    {
      "cell_type": "code",
      "metadata": {
        "id": "42cIjH6S-Ky8",
        "colab_type": "code",
        "colab": {
          "base_uri": "https://localhost:8080/",
          "height": 324
        },
        "outputId": "18c10f11-91a1-4d9b-af03-9645a22c0f1d"
      },
      "source": [
        "import matplotlib.pyplot as plt\n",
        "\n",
        "pd.DataFrame(history.history).plot(figsize=(8,5))\n",
        "plt.grid(True)\n",
        "plt.gca().set_ylim(0,1)\n",
        "plt.show()\n",
        "\n",
        "# might be better with more epochs"
      ],
      "execution_count": 29,
      "outputs": [
        {
          "output_type": "display_data",
          "data": {
            "image/png": "[encoded data removed]",
            "text/plain": [
              "<Figure size 576x360 with 1 Axes>"
            ]
          },
          "metadata": {
            "tags": [],
            "needs_background": "light"
          }
        }
      ]
    },
    {
      "cell_type": "code",
      "metadata": {
        "id": "rgwvgfo5LmKn",
        "colab_type": "code",
        "colab": {}
      },
      "source": [
        "# save the model\n",
        "\n",
        "!pip install -U -q PyDrive\n",
        "from pydrive.auth import GoogleAuth\n",
        "from pydrive.drive import GoogleDrive \n",
        "from google.colab import auth \n",
        "from oauth2client.client import GoogleCredentials\n",
        "\n",
        "auth.authenticate_user()\n",
        "gauth = GoogleAuth()\n",
        "gauth.credentials = GoogleCredentials.get_application_default()\n",
        "drive = GoogleDrive(gauth)\n",
        "\n",
        "model.save(\"convnet_sign_language_mnist.h5\")\n",
        "model_file = drive.CreateFile({\"title\" : \"convnet_sign_language_mnist.h5\"})\n",
        "model_file.SetContentFile(\"convnet_sign_language_mnist.h5\")\n",
        "model_file.Upload()"
      ],
      "execution_count": 30,
      "outputs": []
    }
  ]
}