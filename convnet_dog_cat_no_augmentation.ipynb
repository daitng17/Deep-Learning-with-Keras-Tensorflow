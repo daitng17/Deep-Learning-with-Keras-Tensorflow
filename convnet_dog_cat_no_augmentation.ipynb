{
  "nbformat": 4,
  "nbformat_minor": 0,
  "metadata": {
    "colab": {
      "name": "convnet_dog_cat_no_augmentation.ipynb",
      "provenance": [],
      "collapsed_sections": [],
      "authorship_tag": "ABX9TyM6fwXUdgL5cs1ETwkuYuRS",
      "include_colab_link": true
    },
    "kernelspec": {
      "name": "python3",
      "display_name": "Python 3"
    },
    "accelerator": "GPU"
  },
  "cells": [
    {
      "cell_type": "markdown",
      "metadata": {
        "id": "view-in-github",
        "colab_type": "text"
      },
      "source": [
        "<a href=\"https://colab.research.google.com/github/thanhdtnguyen/Deep-Learning-with-Keras-Tensorflow/blob/master/convnet_dog_cat_no_augmentation.ipynb\" target=\"_parent\"><img src=\"https://colab.research.google.com/assets/colab-badge.svg\" alt=\"Open In Colab\"/></a>"
      ]
    },
    {
      "cell_type": "code",
      "metadata": {
        "id": "CkgS_xCFftFk",
        "colab_type": "code",
        "colab": {}
      },
      "source": [
        "import os \n",
        "import zipfile\n",
        "import random\n",
        "import tensorflow as tf\n",
        "from tensorflow import keras\n",
        "from keras import layers\n",
        "from keras.preprocessing.image import ImageDataGenerator\n",
        "from keras.optimizers import RMSprop\n",
        "from shutil import copyfile"
      ],
      "execution_count": 1,
      "outputs": []
    },
    {
      "cell_type": "code",
      "metadata": {
        "id": "qIHbe7ehgMIu",
        "colab_type": "code",
        "colab": {
          "base_uri": "https://localhost:8080/",
          "height": 204
        },
        "outputId": "1143e9c9-e02e-4a54-a2f1-874401fbe677"
      },
      "source": [
        "# download and extract zip file\n",
        "\n",
        "!wget --no-check-certificate \\\n",
        "    \"https://download.microsoft.com/download/3/E/1/3E1C3F21-ECDB-4869-8368-6DEBA77B919F/kagglecatsanddogs_3367a.zip\" \\\n",
        "    -O \"/tmp/cats-and-dogs.zip\"\n",
        "\n",
        "local_zip = \"/tmp/cats-and-dogs.zip\"\n",
        "zip_ref = zipfile.ZipFile(local_zip, \"r\")\n",
        "zip_ref.extractall(\"/tmp\")\n",
        "zip_ref.close()"
      ],
      "execution_count": 2,
      "outputs": [
        {
          "output_type": "stream",
          "text": [
            "--2020-08-23 01:39:06--  https://download.microsoft.com/download/3/E/1/3E1C3F21-ECDB-4869-8368-6DEBA77B919F/kagglecatsanddogs_3367a.zip\n",
            "Resolving download.microsoft.com (download.microsoft.com)... 184.26.80.188, 2600:1409:a:283::e59, 2600:1409:a:296::e59\n",
            "Connecting to download.microsoft.com (download.microsoft.com)|184.26.80.188|:443... connected.\n",
            "HTTP request sent, awaiting response... 200 OK\n",
            "Length: 824894548 (787M) [application/octet-stream]\n",
            "Saving to: ‘/tmp/cats-and-dogs.zip’\n",
            "\n",
            "/tmp/cats-and-dogs. 100%[===================>] 786.68M   106MB/s    in 7.2s    \n",
            "\n",
            "2020-08-23 01:39:13 (109 MB/s) - ‘/tmp/cats-and-dogs.zip’ saved [824894548/824894548]\n",
            "\n"
          ],
          "name": "stdout"
        }
      ]
    },
    {
      "cell_type": "code",
      "metadata": {
        "id": "LfMjxqMHgwBo",
        "colab_type": "code",
        "colab": {
          "base_uri": "https://localhost:8080/",
          "height": 51
        },
        "outputId": "3b1e50cc-3a4a-48da-89cc-33c3e37fb2cf"
      },
      "source": [
        "print(len(os.listdir(\"/tmp/PetImages/Cat\")))\n",
        "print(len(os.listdir(\"/tmp/PetImages/Dog\")))"
      ],
      "execution_count": 3,
      "outputs": [
        {
          "output_type": "stream",
          "text": [
            "12501\n",
            "12501\n"
          ],
          "name": "stdout"
        }
      ]
    },
    {
      "cell_type": "code",
      "metadata": {
        "id": "G2e1qsCmhPEP",
        "colab_type": "code",
        "colab": {}
      },
      "source": [
        "# create directories \n",
        "\n",
        "try:\n",
        "  base_dir = \"/tmp/cats-v-dogs\"\n",
        "  os.mkdir(base_dir)\n",
        "\n",
        "  training_dir = os.path.join(base_dir, \"training\")\n",
        "  os.mkdir(training_dir)\n",
        "\n",
        "  testing_dir = os.path.join(base_dir, \"testing\")\n",
        "  os.mkdir(testing_dir)\n",
        "\n",
        "  training_cats_dir = os.path.join(training_dir, \"cats\")\n",
        "  os.mkdir(training_cats_dir)\n",
        "  testing_cats_dir = os.path.join(testing_dir, \"cats\")\n",
        "  os.mkdir(testing_cats_dir)\n",
        "\n",
        "  training_dogs_dir = os.path.join(training_dir, \"dogs\")\n",
        "  os.mkdir(training_dogs_dir)\n",
        "  testing_dogs_dir = os.path.join(testing_dir, \"dogs\")\n",
        "  os.mkdir(testing_dogs_dir)\n",
        "except OSError:\n",
        "  pass"
      ],
      "execution_count": 4,
      "outputs": []
    },
    {
      "cell_type": "code",
      "metadata": {
        "id": "kUFXpKYGjj4d",
        "colab_type": "code",
        "colab": {
          "base_uri": "https://localhost:8080/",
          "height": 51
        },
        "outputId": "f2e3eafb-ee0e-44ef-befb-5cc9b59d3ee7"
      },
      "source": [
        "# preprocess data\n",
        "\n",
        "def split_data(source, training, testing, split_size):\n",
        "\n",
        "  image_list = []\n",
        "\n",
        "  file_names = os.listdir(source)\n",
        "  file_number = len(file_names)\n",
        "\n",
        "  for file_data in file_names:\n",
        "      data = source + file_data\n",
        "      if (os.path.getsize(data) > 0):\n",
        "          image_list.append(file_data)\n",
        "      else:\n",
        "          print(file_data + \" is invalid, so ignoring.\")\n",
        "    \n",
        "  shuffled_set = random.sample(image_list, len(image_list))\n",
        "  \n",
        "  for index, file in enumerate(shuffled_set):\n",
        "    if index < int(split_size * len(image_list)):\n",
        "      ftrain = copyfile(os.path.join(source, file), os.path.join(training, file))\n",
        "    else:\n",
        "      ftest = copyfile(os.path.join(source, file), os.path.join(testing, file))\n",
        "\n",
        "\n",
        "cat_source_dir = \"/tmp/PetImages/Cat/\"\n",
        "dog_source_dir = \"/tmp/PetImages/Dog/\"\n",
        "\n",
        "split_size = .9\n",
        "split_data(cat_source_dir, training_cats_dir, testing_cats_dir, split_size)\n",
        "split_data(dog_source_dir, training_dogs_dir, testing_dogs_dir, split_size)"
      ],
      "execution_count": 5,
      "outputs": [
        {
          "output_type": "stream",
          "text": [
            "666.jpg is invalid, so ignoring.\n",
            "11702.jpg is invalid, so ignoring.\n"
          ],
          "name": "stdout"
        }
      ]
    },
    {
      "cell_type": "code",
      "metadata": {
        "id": "W9sdfzszl9yD",
        "colab_type": "code",
        "colab": {
          "base_uri": "https://localhost:8080/",
          "height": 85
        },
        "outputId": "96bac0d5-2cad-4955-942e-2595f04eb46a"
      },
      "source": [
        "print(len(os.listdir(training_cats_dir)))\n",
        "print(len(os.listdir(training_dogs_dir)))\n",
        "print(len(os.listdir(testing_cats_dir)))\n",
        "print(len(os.listdir(testing_dogs_dir)))"
      ],
      "execution_count": 6,
      "outputs": [
        {
          "output_type": "stream",
          "text": [
            "11250\n",
            "11250\n",
            "1250\n",
            "1250\n"
          ],
          "name": "stdout"
        }
      ]
    },
    {
      "cell_type": "code",
      "metadata": {
        "id": "QvX7D-NFpzfZ",
        "colab_type": "code",
        "colab": {}
      },
      "source": [
        "# callbacks\n",
        "\n",
        "class myCallback(keras.callbacks.Callback):\n",
        "\n",
        "  def on_epoch_end(self, epoch, logs={}):\n",
        "    if logs.get(\"accuracy\")>=0.95:\n",
        "      print(\"\\nReached 95% accuracy so cancelling training!\")\n",
        "      self.model.stop_training = True\n",
        "\n",
        "callbacks=myCallback()"
      ],
      "execution_count": 7,
      "outputs": []
    },
    {
      "cell_type": "code",
      "metadata": {
        "id": "n97tysevyRL2",
        "colab_type": "code",
        "colab": {}
      },
      "source": [
        "# define a model\n",
        "\n",
        "model = keras.models.Sequential([layers.Conv2D(16, (3,3), activation=\"relu\", input_shape=(150,150,3)),\n",
        "                                 layers.MaxPooling2D(2,2),\n",
        "                                 layers.Conv2D(32, (3,3), activation=\"relu\"),\n",
        "                                 layers.MaxPooling2D(2,2),\n",
        "                                 layers.Conv2D(64, (3,3), activation=\"relu\"),\n",
        "                                 layers.MaxPooling2D(2,2),\n",
        "                                 layers.Flatten(),\n",
        "                                 layers.Dense(512, activation=\"relu\"),\n",
        "                                 layers.Dense(1, activation=\"sigmoid\")])\n",
        "\n",
        "model.compile(optimizer=RMSprop(lr=1e-3), loss=\"binary_crossentropy\", metrics=[\"accuracy\"])"
      ],
      "execution_count": 8,
      "outputs": []
    },
    {
      "cell_type": "code",
      "metadata": {
        "id": "q5xigKlGqbhq",
        "colab_type": "code",
        "colab": {
          "base_uri": "https://localhost:8080/",
          "height": 51
        },
        "outputId": "c41adef8-64a6-4bd3-de46-96f173bd0cd6"
      },
      "source": [
        "# image generator\n",
        "\n",
        "train_datagen = ImageDataGenerator(rescale=1.0/255.0)\n",
        "\n",
        "train_generator = train_datagen.flow_from_directory(training_dir,\n",
        "                                                    target_size=(150,150),\n",
        "                                                    batch_size=100,\n",
        "                                                    class_mode=\"binary\")\n",
        "\n",
        "validation_datagen = ImageDataGenerator(rescale=1.0/255.0)\n",
        "\n",
        "validation_generator = validation_datagen.flow_from_directory(testing_dir,\n",
        "                                                              target_size=(150,150),\n",
        "                                                              batch_size=50,\n",
        "                                                              class_mode=\"binary\")"
      ],
      "execution_count": 9,
      "outputs": [
        {
          "output_type": "stream",
          "text": [
            "Found 22498 images belonging to 2 classes.\n",
            "Found 2500 images belonging to 2 classes.\n"
          ],
          "name": "stdout"
        }
      ]
    },
    {
      "cell_type": "code",
      "metadata": {
        "id": "eTGStKfPsfbP",
        "colab_type": "code",
        "colab": {
          "base_uri": "https://localhost:8080/",
          "height": 615
        },
        "outputId": "0daa9ac4-47cd-4ede-a6d0-994cb2d3425e"
      },
      "source": [
        "# train the model\n",
        "\n",
        "history = model.fit(train_generator,\n",
        "                    epochs=15,\n",
        "                    verbose=1,\n",
        "                    validation_data=validation_generator,\n",
        "                    callbacks=callbacks)"
      ],
      "execution_count": 10,
      "outputs": [
        {
          "output_type": "stream",
          "text": [
            "Epoch 1/15\n",
            " 16/225 [=>............................] - ETA: 54s - loss: 1.2099 - accuracy: 0.5300"
          ],
          "name": "stdout"
        },
        {
          "output_type": "stream",
          "text": [
            "/usr/local/lib/python3.6/dist-packages/PIL/TiffImagePlugin.py:770: UserWarning: Possibly corrupt EXIF data.  Expecting to read 32 bytes but only got 0. Skipping tag 270\n",
            "  \" Skipping tag %s\" % (size, len(data), tag)\n",
            "/usr/local/lib/python3.6/dist-packages/PIL/TiffImagePlugin.py:770: UserWarning: Possibly corrupt EXIF data.  Expecting to read 5 bytes but only got 0. Skipping tag 271\n",
            "  \" Skipping tag %s\" % (size, len(data), tag)\n",
            "/usr/local/lib/python3.6/dist-packages/PIL/TiffImagePlugin.py:770: UserWarning: Possibly corrupt EXIF data.  Expecting to read 8 bytes but only got 0. Skipping tag 272\n",
            "  \" Skipping tag %s\" % (size, len(data), tag)\n",
            "/usr/local/lib/python3.6/dist-packages/PIL/TiffImagePlugin.py:770: UserWarning: Possibly corrupt EXIF data.  Expecting to read 8 bytes but only got 0. Skipping tag 282\n",
            "  \" Skipping tag %s\" % (size, len(data), tag)\n",
            "/usr/local/lib/python3.6/dist-packages/PIL/TiffImagePlugin.py:770: UserWarning: Possibly corrupt EXIF data.  Expecting to read 8 bytes but only got 0. Skipping tag 283\n",
            "  \" Skipping tag %s\" % (size, len(data), tag)\n",
            "/usr/local/lib/python3.6/dist-packages/PIL/TiffImagePlugin.py:770: UserWarning: Possibly corrupt EXIF data.  Expecting to read 20 bytes but only got 0. Skipping tag 306\n",
            "  \" Skipping tag %s\" % (size, len(data), tag)\n",
            "/usr/local/lib/python3.6/dist-packages/PIL/TiffImagePlugin.py:770: UserWarning: Possibly corrupt EXIF data.  Expecting to read 48 bytes but only got 0. Skipping tag 532\n",
            "  \" Skipping tag %s\" % (size, len(data), tag)\n",
            "/usr/local/lib/python3.6/dist-packages/PIL/TiffImagePlugin.py:788: UserWarning: Corrupt EXIF data.  Expecting to read 2 bytes but only got 0. \n",
            "  warnings.warn(str(msg))\n"
          ],
          "name": "stderr"
        },
        {
          "output_type": "stream",
          "text": [
            "225/225 [==============================] - 74s 328ms/step - loss: 0.6543 - accuracy: 0.6517 - val_loss: 0.5125 - val_accuracy: 0.7464\n",
            "Epoch 2/15\n",
            "225/225 [==============================] - 74s 327ms/step - loss: 0.5018 - accuracy: 0.7542 - val_loss: 0.5099 - val_accuracy: 0.7460\n",
            "Epoch 3/15\n",
            "225/225 [==============================] - 74s 327ms/step - loss: 0.4360 - accuracy: 0.7986 - val_loss: 0.4793 - val_accuracy: 0.7796\n",
            "Epoch 4/15\n",
            "225/225 [==============================] - 73s 326ms/step - loss: 0.3789 - accuracy: 0.8283 - val_loss: 0.3949 - val_accuracy: 0.8160\n",
            "Epoch 5/15\n",
            "225/225 [==============================] - 73s 326ms/step - loss: 0.3134 - accuracy: 0.8631 - val_loss: 0.3950 - val_accuracy: 0.8288\n",
            "Epoch 6/15\n",
            "225/225 [==============================] - 74s 329ms/step - loss: 0.2499 - accuracy: 0.8979 - val_loss: 0.5412 - val_accuracy: 0.8112\n",
            "Epoch 7/15\n",
            "225/225 [==============================] - 73s 326ms/step - loss: 0.1729 - accuracy: 0.9308 - val_loss: 0.5753 - val_accuracy: 0.8208\n",
            "Epoch 8/15\n",
            "225/225 [==============================] - ETA: 0s - loss: 0.1143 - accuracy: 0.9591\n",
            "Reached 95% accuracy so cancelling training!\n",
            "225/225 [==============================] - 73s 326ms/step - loss: 0.1143 - accuracy: 0.9591 - val_loss: 0.5897 - val_accuracy: 0.8408\n"
          ],
          "name": "stdout"
        }
      ]
    },
    {
      "cell_type": "code",
      "metadata": {
        "id": "Z2TZTKgC-xoQ",
        "colab_type": "code",
        "colab": {}
      },
      "source": [
        "# save the model\n",
        "\n",
        "model.save(\"convnet_dog_cat_no_augmentation_model.h5\")"
      ],
      "execution_count": 13,
      "outputs": []
    },
    {
      "cell_type": "code",
      "metadata": {
        "id": "bm8SxxaHs7xs",
        "colab_type": "code",
        "colab": {
          "base_uri": "https://localhost:8080/",
          "height": 545
        },
        "outputId": "6a39624a-ff47-4e1a-844b-6af8cbf524ce"
      },
      "source": [
        "# plot accuracy and loss\n",
        "\n",
        "import matplotlib.pyplot as plt\n",
        "\n",
        "acc = history.history[\"accuracy\"]\n",
        "val_acc = history.history[\"val_accuracy\"]\n",
        "loss = history.history[\"loss\"]\n",
        "val_loss = history.history[\"val_loss\"]\n",
        "\n",
        "epochs = range(1, len(acc) + 1)\n",
        "\n",
        "# accuracy\n",
        "\n",
        "plt.plot(epochs, acc, \"r\", label=\"Training accuracy\")\n",
        "plt.plot(epochs, val_acc, \"b\", label=\"Validation accuracy\")\n",
        "plt.title(\"Training and validation accuracy\")\n",
        "plt.legend()\n",
        "plt.show()\n",
        "\n",
        "# loss\n",
        "\n",
        "plt.plot(epochs, loss, \"r\", label=\"Training loss\")\n",
        "plt.plot(epochs, val_loss, \"b\", label=\"Validation loss\")\n",
        "plt.title(\"Training and validation loss\")\n",
        "plt.legend()\n",
        "plt.show()"
      ],
      "execution_count": 11,
      "outputs": [
        {
          "output_type": "display_data",
          "data": {
            "image/png": "[encoded data removed]",
            "text/plain": [
              "<Figure size 432x288 with 1 Axes>"
            ]
          },
          "metadata": {
            "tags": [],
            "needs_background": "light"
          }
        },
        {
          "output_type": "display_data",
          "data": {
            "image/png": "[encoded data removed]",
            "text/plain": [
              "<Figure size 432x288 with 1 Axes>"
            ]
          },
          "metadata": {
            "tags": [],
            "needs_background": "light"
          }
        }
      ]
    },
    {
      "cell_type": "code",
      "metadata": {
        "id": "1Lznp_vc8YAK",
        "colab_type": "code",
        "colab": {}
      },
      "source": [
        ""
      ],
      "execution_count": 11,
      "outputs": []
    }
  ]
}