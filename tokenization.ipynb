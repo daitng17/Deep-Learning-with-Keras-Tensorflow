{
  "nbformat": 4,
  "nbformat_minor": 0,
  "metadata": {
    "colab": {
      "name": "tokenization.ipynb",
      "provenance": [],
      "authorship_tag": "ABX9TyNnTjuNF85NcF1cYJ050uD4",
      "include_colab_link": true
    },
    "kernelspec": {
      "name": "python3",
      "display_name": "Python 3"
    }
  },
  "cells": [
    {
      "cell_type": "markdown",
      "metadata": {
        "id": "view-in-github",
        "colab_type": "text"
      },
      "source": [
        "<a href=\"https://colab.research.google.com/github/thanhdtnguyen/Deep-Learning-with-Keras-Tensorflow/blob/master/tokenization.ipynb\" target=\"_parent\"><img src=\"https://colab.research.google.com/assets/colab-badge.svg\" alt=\"Open In Colab\"/></a>"
      ]
    },
    {
      "cell_type": "code",
      "metadata": {
        "id": "TeTse6CMIvdj",
        "colab_type": "code",
        "colab": {}
      },
      "source": [
        "import tensorflow as tf\n",
        "from tensorflow import keras\n",
        "from keras.preprocessing.text import Tokenizer\n",
        "from keras.preprocessing.sequence import pad_sequences"
      ],
      "execution_count": null,
      "outputs": []
    },
    {
      "cell_type": "code",
      "metadata": {
        "id": "cuoOwsVuJq2t",
        "colab_type": "code",
        "colab": {
          "base_uri": "https://localhost:8080/",
          "height": 170
        },
        "outputId": "d4bb26b7-5ca1-4be4-bcbd-aaa9addf06e8"
      },
      "source": [
        "text_data = [\"I am a student\",\n",
        "             \"I want to be a machine learning engineer\",\n",
        "             \"I am learning machine learning\"]\n",
        "\n",
        "tokenizer = Tokenizer(num_words=100, oov_token=\"<OOV>\")\n",
        "tokenizer.fit_on_texts(text_data)\n",
        "word_index = tokenizer.word_index\n",
        "\n",
        "sequences = tokenizer.texts_to_sequences(text_data)\n",
        "\n",
        "padded = pad_sequences(sequences, padding=\"post\", maxlen=5)\n",
        "print(\"\\nWord Index: \", word_index)\n",
        "print(\"\\nSequences: \", sequences)\n",
        "print(\"\\nPadded sequences:\")\n",
        "print(padded)"
      ],
      "execution_count": null,
      "outputs": [
        {
          "output_type": "stream",
          "text": [
            "\n",
            "Word Index:  {'<OOV>': 1, 'i': 2, 'learning': 3, 'am': 4, 'a': 5, 'machine': 6, 'student': 7, 'want': 8, 'to': 9, 'be': 10, 'engineer': 11}\n",
            "\n",
            "Sequences:  [[2, 4, 5, 7], [2, 8, 9, 10, 5, 6, 3, 11], [2, 4, 3, 6, 3]]\n",
            "\n",
            "Padded sequences:\n",
            "[[ 2  4  5  7  0]\n",
            " [10  5  6  3 11]\n",
            " [ 2  4  3  6  3]]\n"
          ],
          "name": "stdout"
        }
      ]
    },
    {
      "cell_type": "code",
      "metadata": {
        "id": "Ty4BPY9rQlbd",
        "colab_type": "code",
        "colab": {
          "base_uri": "https://localhost:8080/",
          "height": 68
        },
        "outputId": "609d662a-fae9-493b-e13e-305fb0526b4a"
      },
      "source": [
        "test_data = [\"What is the best machine learning technique?\"]\n",
        "\n",
        "test_seq = tokenizer.texts_to_sequences(test_data)\n",
        "\n",
        "test_padded = pad_sequences(test_seq, padding=\"post\", maxlen=10)\n",
        "\n",
        "print(\"\\nPadded test sequence:\")\n",
        "print(test_padded)"
      ],
      "execution_count": null,
      "outputs": [
        {
          "output_type": "stream",
          "text": [
            "\n",
            "Padded test sequence:\n",
            "[[1 1 1 1 6 3 1 0 0 0]]\n"
          ],
          "name": "stdout"
        }
      ]
    },
    {
      "cell_type": "code",
      "metadata": {
        "id": "yBlDkKXFRVU7",
        "colab_type": "code",
        "colab": {}
      },
      "source": [
        ""
      ],
      "execution_count": null,
      "outputs": []
    }
  ]
}