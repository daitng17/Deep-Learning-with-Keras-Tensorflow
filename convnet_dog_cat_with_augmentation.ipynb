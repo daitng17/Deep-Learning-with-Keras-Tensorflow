{
  "nbformat": 4,
  "nbformat_minor": 0,
  "metadata": {
    "colab": {
      "name": "convnet_dog_cat_with_augmentation.ipynb",
      "provenance": [],
      "collapsed_sections": [],
      "mount_file_id": "1TBnsAkLJZncVneLUzRye4IYcFK90x4eW",
      "authorship_tag": "ABX9TyOBUBZ8gaDJQ+n0a5z1n5LT",
      "include_colab_link": true
    },
    "kernelspec": {
      "name": "python3",
      "display_name": "Python 3"
    },
    "accelerator": "GPU"
  },
  "cells": [
    {
      "cell_type": "markdown",
      "metadata": {
        "id": "view-in-github",
        "colab_type": "text"
      },
      "source": [
        "<a href=\"https://colab.research.google.com/github/thanhdtnguyen/Deep-Learning-with-Keras-Tensorflow/blob/master/convnet_dog_cat_with_augmentation.ipynb\" target=\"_parent\"><img src=\"https://colab.research.google.com/assets/colab-badge.svg\" alt=\"Open In Colab\"/></a>"
      ]
    },
    {
      "cell_type": "code",
      "metadata": {
        "id": "CkgS_xCFftFk",
        "colab_type": "code",
        "colab": {}
      },
      "source": [
        "import os \n",
        "import zipfile\n",
        "import random\n",
        "import tensorflow as tf\n",
        "from tensorflow import keras\n",
        "from keras import layers\n",
        "from keras.preprocessing.image import ImageDataGenerator\n",
        "from keras.optimizers import RMSprop\n",
        "from shutil import copyfile"
      ],
      "execution_count": 1,
      "outputs": []
    },
    {
      "cell_type": "code",
      "metadata": {
        "id": "qIHbe7ehgMIu",
        "colab_type": "code",
        "colab": {
          "base_uri": "https://localhost:8080/",
          "height": 204
        },
        "outputId": "b8737a76-d7d6-48b2-8afb-8a63d663ae33"
      },
      "source": [
        "# download and extract zip file\n",
        "\n",
        "!wget --no-check-certificate \\\n",
        "    \"https://download.microsoft.com/download/3/E/1/3E1C3F21-ECDB-4869-8368-6DEBA77B919F/kagglecatsanddogs_3367a.zip\" \\\n",
        "    -O \"/tmp/cats-and-dogs.zip\"\n",
        "\n",
        "local_zip = \"/tmp/cats-and-dogs.zip\"\n",
        "zip_ref = zipfile.ZipFile(local_zip, \"r\")\n",
        "zip_ref.extractall(\"/tmp\")\n",
        "zip_ref.close()"
      ],
      "execution_count": 2,
      "outputs": [
        {
          "output_type": "stream",
          "text": [
            "--2020-08-23 04:53:21--  https://download.microsoft.com/download/3/E/1/3E1C3F21-ECDB-4869-8368-6DEBA77B919F/kagglecatsanddogs_3367a.zip\n",
            "Resolving download.microsoft.com (download.microsoft.com)... 184.26.80.188, 2600:1409:a:283::e59, 2600:1409:a:296::e59\n",
            "Connecting to download.microsoft.com (download.microsoft.com)|184.26.80.188|:443... connected.\n",
            "HTTP request sent, awaiting response... 200 OK\n",
            "Length: 824894548 (787M) [application/octet-stream]\n",
            "Saving to: ‘/tmp/cats-and-dogs.zip’\n",
            "\n",
            "/tmp/cats-and-dogs. 100%[===================>] 786.68M   180MB/s    in 4.5s    \n",
            "\n",
            "2020-08-23 04:53:26 (176 MB/s) - ‘/tmp/cats-and-dogs.zip’ saved [824894548/824894548]\n",
            "\n"
          ],
          "name": "stdout"
        }
      ]
    },
    {
      "cell_type": "code",
      "metadata": {
        "id": "LfMjxqMHgwBo",
        "colab_type": "code",
        "colab": {
          "base_uri": "https://localhost:8080/",
          "height": 51
        },
        "outputId": "598acd6a-5725-42f4-8e16-7cccd37882d8"
      },
      "source": [
        "print(len(os.listdir(\"/tmp/PetImages/Cat\")))\n",
        "print(len(os.listdir(\"/tmp/PetImages/Dog\")))"
      ],
      "execution_count": 3,
      "outputs": [
        {
          "output_type": "stream",
          "text": [
            "12501\n",
            "12501\n"
          ],
          "name": "stdout"
        }
      ]
    },
    {
      "cell_type": "code",
      "metadata": {
        "id": "G2e1qsCmhPEP",
        "colab_type": "code",
        "colab": {}
      },
      "source": [
        "# create directories \n",
        "\n",
        "try:\n",
        "  base_dir = \"/tmp/cats-v-dogs\"\n",
        "  os.mkdir(base_dir)\n",
        "\n",
        "  training_dir = os.path.join(base_dir, \"training\")\n",
        "  os.mkdir(training_dir)\n",
        "\n",
        "  testing_dir = os.path.join(base_dir, \"testing\")\n",
        "  os.mkdir(testing_dir)\n",
        "\n",
        "  training_cats_dir = os.path.join(training_dir, \"cats\")\n",
        "  os.mkdir(training_cats_dir)\n",
        "  testing_cats_dir = os.path.join(testing_dir, \"cats\")\n",
        "  os.mkdir(testing_cats_dir)\n",
        "\n",
        "  training_dogs_dir = os.path.join(training_dir, \"dogs\")\n",
        "  os.mkdir(training_dogs_dir)\n",
        "  testing_dogs_dir = os.path.join(testing_dir, \"dogs\")\n",
        "  os.mkdir(testing_dogs_dir)\n",
        "except OSError:\n",
        "  pass"
      ],
      "execution_count": 4,
      "outputs": []
    },
    {
      "cell_type": "code",
      "metadata": {
        "id": "kUFXpKYGjj4d",
        "colab_type": "code",
        "colab": {
          "base_uri": "https://localhost:8080/",
          "height": 51
        },
        "outputId": "2b3143e6-0d9b-4330-a8a6-68ba895f2c43"
      },
      "source": [
        "# preprocess data\n",
        "\n",
        "def split_data(source, training, testing, split_size):\n",
        "\n",
        "  image_list = []\n",
        "\n",
        "  file_names = os.listdir(source)\n",
        "\n",
        "  for file_data in file_names:\n",
        "      data = source + file_data\n",
        "      if (os.path.getsize(data) > 0):\n",
        "          image_list.append(file_data)\n",
        "      else:\n",
        "          print(file_data + \" is invalid, so ignoring.\")\n",
        "    \n",
        "  shuffled_set = random.sample(image_list, len(image_list))\n",
        "  \n",
        "  for index, file in enumerate(shuffled_set):\n",
        "    if index < int(split_size * len(image_list)):\n",
        "      ftrain = copyfile(os.path.join(source, file), os.path.join(training, file))\n",
        "    else:\n",
        "      ftest = copyfile(os.path.join(source, file), os.path.join(testing, file))\n",
        "\n",
        "\n",
        "cat_source_dir = \"/tmp/PetImages/Cat/\"\n",
        "dog_source_dir = \"/tmp/PetImages/Dog/\"\n",
        "\n",
        "split_size = .9\n",
        "split_data(cat_source_dir, training_cats_dir, testing_cats_dir, split_size)\n",
        "split_data(dog_source_dir, training_dogs_dir, testing_dogs_dir, split_size)"
      ],
      "execution_count": 5,
      "outputs": [
        {
          "output_type": "stream",
          "text": [
            "666.jpg is invalid, so ignoring.\n",
            "11702.jpg is invalid, so ignoring.\n"
          ],
          "name": "stdout"
        }
      ]
    },
    {
      "cell_type": "code",
      "metadata": {
        "id": "W9sdfzszl9yD",
        "colab_type": "code",
        "colab": {
          "base_uri": "https://localhost:8080/",
          "height": 85
        },
        "outputId": "8a22bc65-e960-4dee-d1cc-6d78de0e5ad8"
      },
      "source": [
        "print(len(os.listdir(training_cats_dir)))\n",
        "print(len(os.listdir(training_dogs_dir)))\n",
        "print(len(os.listdir(testing_cats_dir)))\n",
        "print(len(os.listdir(testing_dogs_dir)))"
      ],
      "execution_count": 6,
      "outputs": [
        {
          "output_type": "stream",
          "text": [
            "11250\n",
            "11250\n",
            "1250\n",
            "1250\n"
          ],
          "name": "stdout"
        }
      ]
    },
    {
      "cell_type": "code",
      "metadata": {
        "id": "QvX7D-NFpzfZ",
        "colab_type": "code",
        "colab": {}
      },
      "source": [
        "# callbacks\n",
        "\n",
        "class myCallback(keras.callbacks.Callback):\n",
        "\n",
        "  def on_epoch_end(self, epoch, logs={}):\n",
        "    if logs.get(\"accuracy\")>=0.95:\n",
        "      print(\"\\nReached 95% accuracy so cancelling training!\")\n",
        "      self.model.stop_training = True\n",
        "\n",
        "callbacks=myCallback()"
      ],
      "execution_count": 7,
      "outputs": []
    },
    {
      "cell_type": "code",
      "metadata": {
        "id": "n97tysevyRL2",
        "colab_type": "code",
        "colab": {
          "base_uri": "https://localhost:8080/",
          "height": 527
        },
        "outputId": "8fb241bb-fdac-4164-d260-c10de43e89c4"
      },
      "source": [
        "# update the previoudly built model by adding 2 more convnet layers\n",
        "\n",
        "model = keras.models.Sequential([layers.Conv2D(16, (3,3), activation=\"relu\", input_shape=(150,150,3)),\n",
        "                                 layers.MaxPooling2D(2,2),\n",
        "                                 layers.Conv2D(32, (3,3), activation=\"relu\"),\n",
        "                                 layers.MaxPooling2D(2,2),\n",
        "                                 layers.Conv2D(64, (3,3), activation=\"relu\"),\n",
        "                                 layers.MaxPooling2D(2,2),\n",
        "                                 layers.Conv2D(64, (3,3), activation=\"relu\"),\n",
        "                                 layers.MaxPooling2D(2,2),\n",
        "                                 layers.Flatten(),\n",
        "                                 layers.Dense(512, activation=\"relu\"),\n",
        "                                 layers.Dense(1, activation=\"sigmoid\")])\n",
        "\n",
        "model.compile(optimizer=RMSprop(lr=1e-3), loss=\"binary_crossentropy\", metrics=[\"accuracy\"])\n",
        "\n",
        "model.summary()"
      ],
      "execution_count": 8,
      "outputs": [
        {
          "output_type": "stream",
          "text": [
            "Model: \"sequential\"\n",
            "_________________________________________________________________\n",
            "Layer (type)                 Output Shape              Param #   \n",
            "=================================================================\n",
            "conv2d (Conv2D)              (None, 148, 148, 16)      448       \n",
            "_________________________________________________________________\n",
            "max_pooling2d (MaxPooling2D) (None, 74, 74, 16)        0         \n",
            "_________________________________________________________________\n",
            "conv2d_1 (Conv2D)            (None, 72, 72, 32)        4640      \n",
            "_________________________________________________________________\n",
            "max_pooling2d_1 (MaxPooling2 (None, 36, 36, 32)        0         \n",
            "_________________________________________________________________\n",
            "conv2d_2 (Conv2D)            (None, 34, 34, 64)        18496     \n",
            "_________________________________________________________________\n",
            "max_pooling2d_2 (MaxPooling2 (None, 17, 17, 64)        0         \n",
            "_________________________________________________________________\n",
            "conv2d_3 (Conv2D)            (None, 15, 15, 64)        36928     \n",
            "_________________________________________________________________\n",
            "max_pooling2d_3 (MaxPooling2 (None, 7, 7, 64)          0         \n",
            "_________________________________________________________________\n",
            "flatten (Flatten)            (None, 3136)              0         \n",
            "_________________________________________________________________\n",
            "dense (Dense)                (None, 512)               1606144   \n",
            "_________________________________________________________________\n",
            "dense_1 (Dense)              (None, 1)                 513       \n",
            "=================================================================\n",
            "Total params: 1,667,169\n",
            "Trainable params: 1,667,169\n",
            "Non-trainable params: 0\n",
            "_________________________________________________________________\n"
          ],
          "name": "stdout"
        }
      ]
    },
    {
      "cell_type": "code",
      "metadata": {
        "id": "q5xigKlGqbhq",
        "colab_type": "code",
        "colab": {
          "base_uri": "https://localhost:8080/",
          "height": 51
        },
        "outputId": "edadfa33-96f5-426e-ad50-73212f3e2eff"
      },
      "source": [
        "# image generator with data augmentation\n",
        "\n",
        "train_datagen = ImageDataGenerator(rescale=1.0/255.0,\n",
        "                                   rotation_range=40,\n",
        "                                   width_shift_range=0.2,\n",
        "                                   height_shift_range=0.2,\n",
        "                                   shear_range=0.2,\n",
        "                                   zoom_range=0.2,\n",
        "                                   horizontal_flip=True,\n",
        "                                   fill_mode=\"nearest\")\n",
        "\n",
        "train_generator = train_datagen.flow_from_directory(training_dir,\n",
        "                                                    target_size=(150,150),\n",
        "                                                    batch_size=128,\n",
        "                                                    class_mode=\"binary\")\n",
        "\n",
        "validation_datagen = ImageDataGenerator(rescale=1.0/255.0)\n",
        "\n",
        "validation_generator = validation_datagen.flow_from_directory(testing_dir,\n",
        "                                                              target_size=(150,150),\n",
        "                                                              batch_size=50,\n",
        "                                                              class_mode=\"binary\")"
      ],
      "execution_count": 9,
      "outputs": [
        {
          "output_type": "stream",
          "text": [
            "Found 22498 images belonging to 2 classes.\n",
            "Found 2500 images belonging to 2 classes.\n"
          ],
          "name": "stdout"
        }
      ]
    },
    {
      "cell_type": "code",
      "metadata": {
        "id": "eTGStKfPsfbP",
        "colab_type": "code",
        "colab": {
          "base_uri": "https://localhost:8080/",
          "height": 1000
        },
        "outputId": "67fcc2ab-e322-4f7b-9dee-21c1347a3f29"
      },
      "source": [
        "# train the model\n",
        "\n",
        "history = model.fit(train_generator,\n",
        "                    epochs=50,\n",
        "                    verbose=1,\n",
        "                    validation_data=validation_generator,\n",
        "                    validation_steps=50,\n",
        "                    callbacks=callbacks)"
      ],
      "execution_count": 12,
      "outputs": [
        {
          "output_type": "stream",
          "text": [
            "Epoch 1/50\n",
            " 36/176 [=====>........................] - ETA: 2:10 - loss: 0.6731 - accuracy: 0.5966"
          ],
          "name": "stdout"
        },
        {
          "output_type": "stream",
          "text": [
            "/usr/local/lib/python3.6/dist-packages/PIL/TiffImagePlugin.py:770: UserWarning: Possibly corrupt EXIF data.  Expecting to read 32 bytes but only got 0. Skipping tag 270\n",
            "  \" Skipping tag %s\" % (size, len(data), tag)\n",
            "/usr/local/lib/python3.6/dist-packages/PIL/TiffImagePlugin.py:770: UserWarning: Possibly corrupt EXIF data.  Expecting to read 5 bytes but only got 0. Skipping tag 271\n",
            "  \" Skipping tag %s\" % (size, len(data), tag)\n",
            "/usr/local/lib/python3.6/dist-packages/PIL/TiffImagePlugin.py:770: UserWarning: Possibly corrupt EXIF data.  Expecting to read 8 bytes but only got 0. Skipping tag 272\n",
            "  \" Skipping tag %s\" % (size, len(data), tag)\n",
            "/usr/local/lib/python3.6/dist-packages/PIL/TiffImagePlugin.py:770: UserWarning: Possibly corrupt EXIF data.  Expecting to read 8 bytes but only got 0. Skipping tag 282\n",
            "  \" Skipping tag %s\" % (size, len(data), tag)\n",
            "/usr/local/lib/python3.6/dist-packages/PIL/TiffImagePlugin.py:770: UserWarning: Possibly corrupt EXIF data.  Expecting to read 8 bytes but only got 0. Skipping tag 283\n",
            "  \" Skipping tag %s\" % (size, len(data), tag)\n",
            "/usr/local/lib/python3.6/dist-packages/PIL/TiffImagePlugin.py:770: UserWarning: Possibly corrupt EXIF data.  Expecting to read 20 bytes but only got 0. Skipping tag 306\n",
            "  \" Skipping tag %s\" % (size, len(data), tag)\n",
            "/usr/local/lib/python3.6/dist-packages/PIL/TiffImagePlugin.py:770: UserWarning: Possibly corrupt EXIF data.  Expecting to read 48 bytes but only got 0. Skipping tag 532\n",
            "  \" Skipping tag %s\" % (size, len(data), tag)\n",
            "/usr/local/lib/python3.6/dist-packages/PIL/TiffImagePlugin.py:788: UserWarning: Corrupt EXIF data.  Expecting to read 2 bytes but only got 0. \n",
            "  warnings.warn(str(msg))\n"
          ],
          "name": "stderr"
        },
        {
          "output_type": "stream",
          "text": [
            "176/176 [==============================] - 170s 964ms/step - loss: 0.6531 - accuracy: 0.6237 - val_loss: 0.5952 - val_accuracy: 0.6840\n",
            "Epoch 2/50\n",
            "176/176 [==============================] - 164s 933ms/step - loss: 0.6141 - accuracy: 0.6675 - val_loss: 0.5583 - val_accuracy: 0.7200\n",
            "Epoch 3/50\n",
            "176/176 [==============================] - 161s 912ms/step - loss: 0.5843 - accuracy: 0.6877 - val_loss: 0.5522 - val_accuracy: 0.7156\n",
            "Epoch 4/50\n",
            "176/176 [==============================] - 160s 906ms/step - loss: 0.5650 - accuracy: 0.7048 - val_loss: 0.5214 - val_accuracy: 0.7404\n",
            "Epoch 5/50\n",
            "176/176 [==============================] - 160s 911ms/step - loss: 0.5523 - accuracy: 0.7219 - val_loss: 0.6106 - val_accuracy: 0.6464\n",
            "Epoch 6/50\n",
            "176/176 [==============================] - 164s 930ms/step - loss: 0.5334 - accuracy: 0.7320 - val_loss: 0.8552 - val_accuracy: 0.5688\n",
            "Epoch 7/50\n",
            "176/176 [==============================] - 168s 954ms/step - loss: 0.5154 - accuracy: 0.7438 - val_loss: 0.4864 - val_accuracy: 0.7660\n",
            "Epoch 8/50\n",
            "176/176 [==============================] - 170s 963ms/step - loss: 0.4972 - accuracy: 0.7581 - val_loss: 0.4771 - val_accuracy: 0.7756\n",
            "Epoch 9/50\n",
            "176/176 [==============================] - 174s 987ms/step - loss: 0.4791 - accuracy: 0.7669 - val_loss: 0.3843 - val_accuracy: 0.8276\n",
            "Epoch 10/50\n",
            "176/176 [==============================] - 175s 996ms/step - loss: 0.4615 - accuracy: 0.7814 - val_loss: 0.4331 - val_accuracy: 0.8072\n",
            "Epoch 11/50\n",
            "176/176 [==============================] - 176s 1s/step - loss: 0.4445 - accuracy: 0.7895 - val_loss: 0.6148 - val_accuracy: 0.6968\n",
            "Epoch 12/50\n",
            "176/176 [==============================] - 178s 1s/step - loss: 0.4263 - accuracy: 0.8029 - val_loss: 0.3552 - val_accuracy: 0.8420\n",
            "Epoch 13/50\n",
            "176/176 [==============================] - 177s 1s/step - loss: 0.4137 - accuracy: 0.8114 - val_loss: 0.3537 - val_accuracy: 0.8500\n",
            "Epoch 14/50\n",
            "176/176 [==============================] - 176s 1s/step - loss: 0.3992 - accuracy: 0.8178 - val_loss: 0.3147 - val_accuracy: 0.8684\n",
            "Epoch 15/50\n",
            "176/176 [==============================] - 178s 1s/step - loss: 0.3871 - accuracy: 0.8263 - val_loss: 0.2976 - val_accuracy: 0.8720\n",
            "Epoch 16/50\n",
            "176/176 [==============================] - 177s 1s/step - loss: 0.3695 - accuracy: 0.8313 - val_loss: 0.2857 - val_accuracy: 0.8836\n",
            "Epoch 17/50\n",
            "176/176 [==============================] - 177s 1s/step - loss: 0.3589 - accuracy: 0.8424 - val_loss: 0.2774 - val_accuracy: 0.8812\n",
            "Epoch 18/50\n",
            "176/176 [==============================] - 177s 1s/step - loss: 0.3477 - accuracy: 0.8472 - val_loss: 0.2985 - val_accuracy: 0.8732\n",
            "Epoch 19/50\n",
            "176/176 [==============================] - 177s 1s/step - loss: 0.3387 - accuracy: 0.8481 - val_loss: 0.2882 - val_accuracy: 0.8704\n",
            "Epoch 20/50\n",
            "176/176 [==============================] - 176s 1000ms/step - loss: 0.3256 - accuracy: 0.8565 - val_loss: 0.4009 - val_accuracy: 0.8436\n",
            "Epoch 21/50\n",
            "176/176 [==============================] - 176s 1s/step - loss: 0.3176 - accuracy: 0.8600 - val_loss: 0.2401 - val_accuracy: 0.8988\n",
            "Epoch 22/50\n",
            "176/176 [==============================] - 177s 1s/step - loss: 0.3120 - accuracy: 0.8663 - val_loss: 0.3474 - val_accuracy: 0.8428\n",
            "Epoch 23/50\n",
            "176/176 [==============================] - 177s 1s/step - loss: 0.3054 - accuracy: 0.8666 - val_loss: 0.2754 - val_accuracy: 0.8908\n",
            "Epoch 24/50\n",
            "176/176 [==============================] - 177s 1s/step - loss: 0.3001 - accuracy: 0.8667 - val_loss: 0.2345 - val_accuracy: 0.8980\n",
            "Epoch 25/50\n",
            "176/176 [==============================] - 177s 1s/step - loss: 0.2907 - accuracy: 0.8771 - val_loss: 0.2412 - val_accuracy: 0.8948\n",
            "Epoch 26/50\n",
            "176/176 [==============================] - 177s 1s/step - loss: 0.2850 - accuracy: 0.8775 - val_loss: 0.2333 - val_accuracy: 0.8928\n",
            "Epoch 27/50\n",
            "176/176 [==============================] - 177s 1s/step - loss: 0.2800 - accuracy: 0.8791 - val_loss: 0.2317 - val_accuracy: 0.9004\n",
            "Epoch 28/50\n",
            "176/176 [==============================] - 177s 1s/step - loss: 0.2760 - accuracy: 0.8814 - val_loss: 0.2067 - val_accuracy: 0.9140\n",
            "Epoch 29/50\n",
            "176/176 [==============================] - 178s 1s/step - loss: 0.2669 - accuracy: 0.8849 - val_loss: 0.2636 - val_accuracy: 0.8968\n",
            "Epoch 30/50\n",
            "176/176 [==============================] - 178s 1s/step - loss: 0.2664 - accuracy: 0.8871 - val_loss: 0.2388 - val_accuracy: 0.8952\n",
            "Epoch 31/50\n",
            "176/176 [==============================] - 178s 1s/step - loss: 0.2623 - accuracy: 0.8879 - val_loss: 0.2407 - val_accuracy: 0.8864\n",
            "Epoch 32/50\n",
            "176/176 [==============================] - 177s 1s/step - loss: 0.2638 - accuracy: 0.8871 - val_loss: 0.2375 - val_accuracy: 0.9016\n",
            "Epoch 33/50\n",
            "176/176 [==============================] - 178s 1s/step - loss: 0.2501 - accuracy: 0.8918 - val_loss: 0.2246 - val_accuracy: 0.8980\n",
            "Epoch 34/50\n",
            "176/176 [==============================] - 178s 1s/step - loss: 0.2552 - accuracy: 0.8898 - val_loss: 0.1957 - val_accuracy: 0.9176\n",
            "Epoch 35/50\n",
            "176/176 [==============================] - 177s 1s/step - loss: 0.2532 - accuracy: 0.8922 - val_loss: 0.2289 - val_accuracy: 0.9000\n",
            "Epoch 36/50\n",
            "176/176 [==============================] - 177s 1s/step - loss: 0.2509 - accuracy: 0.8944 - val_loss: 0.2037 - val_accuracy: 0.9144\n",
            "Epoch 37/50\n",
            "176/176 [==============================] - 178s 1s/step - loss: 0.2463 - accuracy: 0.8942 - val_loss: 0.2112 - val_accuracy: 0.9088\n",
            "Epoch 38/50\n",
            "176/176 [==============================] - 178s 1s/step - loss: 0.2428 - accuracy: 0.8952 - val_loss: 0.2106 - val_accuracy: 0.9072\n",
            "Epoch 39/50\n",
            "176/176 [==============================] - 177s 1s/step - loss: 0.2472 - accuracy: 0.8946 - val_loss: 0.2135 - val_accuracy: 0.9112\n",
            "Epoch 40/50\n",
            "176/176 [==============================] - 177s 1s/step - loss: 0.2483 - accuracy: 0.8948 - val_loss: 0.1891 - val_accuracy: 0.9200\n",
            "Epoch 41/50\n",
            "176/176 [==============================] - 177s 1s/step - loss: 0.2401 - accuracy: 0.9012 - val_loss: 0.3737 - val_accuracy: 0.8256\n",
            "Epoch 42/50\n",
            "176/176 [==============================] - 177s 1s/step - loss: 0.2413 - accuracy: 0.8991 - val_loss: 0.1832 - val_accuracy: 0.9216\n",
            "Epoch 43/50\n",
            "176/176 [==============================] - 177s 1s/step - loss: 0.2370 - accuracy: 0.9008 - val_loss: 0.1783 - val_accuracy: 0.9244\n",
            "Epoch 44/50\n",
            "176/176 [==============================] - 177s 1s/step - loss: 0.2372 - accuracy: 0.9014 - val_loss: 0.1980 - val_accuracy: 0.9236\n",
            "Epoch 45/50\n",
            "176/176 [==============================] - 176s 1s/step - loss: 0.2301 - accuracy: 0.9021 - val_loss: 0.2093 - val_accuracy: 0.9136\n",
            "Epoch 46/50\n",
            "176/176 [==============================] - 177s 1s/step - loss: 0.2345 - accuracy: 0.9007 - val_loss: 0.1850 - val_accuracy: 0.9236\n",
            "Epoch 47/50\n",
            "176/176 [==============================] - 177s 1s/step - loss: 0.2392 - accuracy: 0.9005 - val_loss: 0.3164 - val_accuracy: 0.8484\n",
            "Epoch 48/50\n",
            "176/176 [==============================] - 177s 1s/step - loss: 0.2280 - accuracy: 0.9051 - val_loss: 0.2504 - val_accuracy: 0.8800\n",
            "Epoch 49/50\n",
            "176/176 [==============================] - 177s 1s/step - loss: 0.2345 - accuracy: 0.9011 - val_loss: 0.1770 - val_accuracy: 0.9268\n",
            "Epoch 50/50\n",
            "176/176 [==============================] - 177s 1s/step - loss: 0.2280 - accuracy: 0.9053 - val_loss: 0.2656 - val_accuracy: 0.8820\n"
          ],
          "name": "stdout"
        }
      ]
    },
    {
      "cell_type": "code",
      "metadata": {
        "id": "bm8SxxaHs7xs",
        "colab_type": "code",
        "colab": {
          "base_uri": "https://localhost:8080/",
          "height": 545
        },
        "outputId": "8d6c6750-1aaf-4f77-cc95-71dedbc2dc3a"
      },
      "source": [
        "# plot accuracy and loss\n",
        "\n",
        "import matplotlib.pyplot as plt\n",
        "\n",
        "acc = history.history[\"accuracy\"]\n",
        "val_acc = history.history[\"val_accuracy\"]\n",
        "loss = history.history[\"loss\"]\n",
        "val_loss = history.history[\"val_loss\"]\n",
        "\n",
        "epochs = range(1, len(acc) + 1)\n",
        "\n",
        "# accuracy\n",
        "\n",
        "plt.plot(epochs, acc, \"r\", label=\"Training accuracy\")\n",
        "plt.plot(epochs, val_acc, \"b\", label=\"Validation accuracy\")\n",
        "plt.title(\"Training and validation accuracy\")\n",
        "plt.legend()\n",
        "plt.show()\n",
        "\n",
        "# loss\n",
        "\n",
        "plt.plot(epochs, loss, \"r\", label=\"Training loss\")\n",
        "plt.plot(epochs, val_loss, \"b\", label=\"Validation loss\")\n",
        "plt.title(\"Training and validation loss\")\n",
        "plt.legend()\n",
        "plt.show()"
      ],
      "execution_count": 16,
      "outputs": [
        {
          "output_type": "display_data",
          "data": {
            "image/png": "[encoded data removed]",
            "text/plain": [
              "<Figure size 432x288 with 1 Axes>"
            ]
          },
          "metadata": {
            "tags": [],
            "needs_background": "light"
          }
        },
        {
          "output_type": "display_data",
          "data": {
            "image/png": "[encoded data removed]",
            "text/plain": [
              "<Figure size 432x288 with 1 Axes>"
            ]
          },
          "metadata": {
            "tags": [],
            "needs_background": "light"
          }
        }
      ]
    },
    {
      "cell_type": "code",
      "metadata": {
        "id": "mKlnN7T-NwJH",
        "colab_type": "code",
        "colab": {}
      },
      "source": [
        "!pip install -U -q PyDrive\n",
        "from pydrive.auth import GoogleAuth\n",
        "from pydrive.drive import GoogleDrive \n",
        "from google.colab import auth \n",
        "from oauth2client.client import GoogleCredentials"
      ],
      "execution_count": 18,
      "outputs": []
    },
    {
      "cell_type": "code",
      "metadata": {
        "id": "XhYVeqnbNzug",
        "colab_type": "code",
        "colab": {}
      },
      "source": [
        "auth.authenticate_user()\n",
        "gauth = GoogleAuth()\n",
        "gauth.credentials = GoogleCredentials.get_application_default()\n",
        "drive = GoogleDrive(gauth)"
      ],
      "execution_count": 19,
      "outputs": []
    },
    {
      "cell_type": "code",
      "metadata": {
        "id": "IPc9N9EaOG6J",
        "colab_type": "code",
        "colab": {}
      },
      "source": [
        "model.save(\"convnet_dog_cat_with_augmentation_model.h5\")\n",
        "model_file = drive.CreateFile({\"title\" : \"convnet_dog_cat_with_augmentation_model.h5\"})\n",
        "model_file.SetContentFile(\"convnet_dog_cat_with_augmentation_model.h5\")\n",
        "model_file.Upload()"
      ],
      "execution_count": 20,
      "outputs": []
    },
    {
      "cell_type": "code",
      "metadata": {
        "id": "YOyJKALwOaqu",
        "colab_type": "code",
        "colab": {}
      },
      "source": [
        "# download to google drive                      \n",
        "drive.CreateFile({'id': model_file.get('id')})"
      ],
      "execution_count": null,
      "outputs": []
    },
    {
      "cell_type": "code",
      "metadata": {
        "id": "1Lznp_vc8YAK",
        "colab_type": "code",
        "colab": {
          "resources": {
            "http://localhost:8080/nbextensions/google.colab/files.js": {
              "data": "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",
              "ok": true,
              "headers": [
                [
                  "content-type",
                  "application/javascript"
                ]
              ],
              "status": 200,
              "status_text": ""
            }
          },
          "base_uri": "https://localhost:8080/",
          "height": 107
        },
        "outputId": "ed5057a7-644a-47e5-d485-43cf20f13142"
      },
      "source": [
        "# test the model with real image\n",
        "\n",
        "import numpy as np\n",
        "from google.colab import files\n",
        "from keras.preprocessing import image\n",
        "\n",
        "uploaded = files.upload()\n",
        "\n",
        "for fn in uploaded.keys():\n",
        " \n",
        "  # predicting images\n",
        "  path = '/content/' + fn\n",
        "  img = image.load_img(path, target_size=(150,150,3))\n",
        "  \n",
        "  x = image.img_to_array(img)\n",
        "  x = np.expand_dims(x, axis=0)\n",
        "\n",
        "  images = np.vstack([x])\n",
        "  classes = model.predict(images, batch_size=128)\n",
        "  print(classes[0])\n",
        "  if classes[0]>0.5:\n",
        "    print(fn + \" is a dog\")\n",
        "  else:\n",
        "    print(fn + \" is a cat\")"
      ],
      "execution_count": 36,
      "outputs": [
        {
          "output_type": "display_data",
          "data": {
            "text/html": [
              "\n",
              "     <input type=\"file\" id=\"files-d3d037ad-2768-4aca-ac9f-91d485c0738e\" name=\"files[]\" multiple disabled\n",
              "        style=\"border:none\" />\n",
              "     <output id=\"result-d3d037ad-2768-4aca-ac9f-91d485c0738e\">\n",
              "      Upload widget is only available when the cell has been executed in the\n",
              "      current browser session. Please rerun this cell to enable.\n",
              "      </output>\n",
              "      <script src=\"/nbextensions/google.colab/files.js\"></script> "
            ],
            "text/plain": [
              "<IPython.core.display.HTML object>"
            ]
          },
          "metadata": {
            "tags": []
          }
        },
        {
          "output_type": "stream",
          "text": [
            "Saving 184b8f2c10e30326f6ee92b3652408ac.jpg to 184b8f2c10e30326f6ee92b3652408ac.jpg\n",
            "[0.]\n",
            "184b8f2c10e30326f6ee92b3652408ac.jpg is a cat\n"
          ],
          "name": "stdout"
        }
      ]
    }
  ]
}