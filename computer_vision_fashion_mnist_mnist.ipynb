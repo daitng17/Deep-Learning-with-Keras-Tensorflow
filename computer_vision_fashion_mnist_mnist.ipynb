{
  "nbformat": 4,
  "nbformat_minor": 0,
  "metadata": {
    "colab": {
      "name": "computer_vision_fashion_mnist_mnist.ipynb",
      "provenance": [],
      "collapsed_sections": [],
      "authorship_tag": "ABX9TyNolVRYqRCPAoyQ3ivqMyrA",
      "include_colab_link": true
    },
    "kernelspec": {
      "name": "python3",
      "display_name": "Python 3"
    },
    "accelerator": "GPU"
  },
  "cells": [
    {
      "cell_type": "markdown",
      "metadata": {
        "id": "view-in-github",
        "colab_type": "text"
      },
      "source": [
        "<a href=\"https://colab.research.google.com/github/thanhdtnguyen/Deep-Learning-with-Keras-Tensorflow/blob/master/computer_vision_fashion_mnist_mnist.ipynb\" target=\"_parent\"><img src=\"https://colab.research.google.com/assets/colab-badge.svg\" alt=\"Open In Colab\"/></a>"
      ]
    },
    {
      "cell_type": "markdown",
      "metadata": {
        "id": "H6FoQ-MbGReU",
        "colab_type": "text"
      },
      "source": [
        "## Fashion MNIST Dataset"
      ]
    },
    {
      "cell_type": "code",
      "metadata": {
        "id": "G7OV6qH9xth2",
        "colab_type": "code",
        "colab": {}
      },
      "source": [
        "import tensorflow as ft\n",
        "import matplotlib.pyplot as plt\n",
        "\n",
        "from tensorflow import keras\n",
        "from keras import layers\n",
        "from keras.datasets import fashion_mnist\n",
        "\n",
        "# fashion mnist\n",
        "\n",
        "(train_images, train_labels), (test_images, test_labels) = fashion_mnist.load_data()"
      ],
      "execution_count": 1,
      "outputs": []
    },
    {
      "cell_type": "code",
      "metadata": {
        "id": "5Kc9Q0IwyRaL",
        "colab_type": "code",
        "colab": {}
      },
      "source": [
        "class myCallback(keras.callbacks.Callback):\n",
        "  def on_epoch_end(self, epoch, logs={}):\n",
        "    if logs.get(\"accuracy\")>=0.98:\n",
        "      print(\"\\nReached 98% accuracy so cancelling training!\")\n",
        "      self.model.stop_training = True \n",
        "\n",
        "callbacks=myCallback()"
      ],
      "execution_count": 2,
      "outputs": []
    },
    {
      "cell_type": "code",
      "metadata": {
        "id": "ogA7nYzFzSwT",
        "colab_type": "code",
        "colab": {}
      },
      "source": [
        "train_images = train_images.reshape(60000, 28, 28, 1)\n",
        "train_images = train_images / 255.0\n",
        "test_images = test_images.reshape(10000, 28, 28, 1)\n",
        "test_images = test_images / 255.0"
      ],
      "execution_count": 3,
      "outputs": []
    },
    {
      "cell_type": "code",
      "metadata": {
        "id": "0xa6mJFVzPwG",
        "colab_type": "code",
        "colab": {
          "base_uri": "https://localhost:8080/",
          "height": 425
        },
        "outputId": "a7f4b9fd-6b67-4ff0-e979-7e4006726662"
      },
      "source": [
        "model = keras.models.Sequential([layers.Conv2D(64, (3,3), activation=\"relu\", input_shape=(28,28,1)),\n",
        "                                 layers.MaxPooling2D(2,2),\n",
        "                                 #layers.Conv2D(64, (3,3), activation=\"relu\"),\n",
        "                                 #layers.MaxPooling2D(2,2),\n",
        "                                 layers.Flatten(),\n",
        "                                 layers.Dense(128, activation=\"relu\"),\n",
        "                                 layers.Dense(10, activation=\"softmax\")])\n",
        "\n",
        "model.compile(loss=\"sparse_categorical_crossentropy\", optimizer=\"adam\", metrics=[\"accuracy\"])\n",
        "\n",
        "history = model.fit(train_images, train_labels, epochs=15, callbacks=callbacks)"
      ],
      "execution_count": 4,
      "outputs": [
        {
          "output_type": "stream",
          "text": [
            "Epoch 1/15\n",
            "1875/1875 [==============================] - 9s 5ms/step - loss: 0.3846 - accuracy: 0.8632\n",
            "Epoch 2/15\n",
            "1875/1875 [==============================] - 9s 5ms/step - loss: 0.2599 - accuracy: 0.9045\n",
            "Epoch 3/15\n",
            "1875/1875 [==============================] - 9s 5ms/step - loss: 0.2134 - accuracy: 0.9213\n",
            "Epoch 4/15\n",
            "1875/1875 [==============================] - 9s 5ms/step - loss: 0.1781 - accuracy: 0.9341\n",
            "Epoch 5/15\n",
            "1875/1875 [==============================] - 9s 5ms/step - loss: 0.1474 - accuracy: 0.9449\n",
            "Epoch 6/15\n",
            "1875/1875 [==============================] - 9s 5ms/step - loss: 0.1260 - accuracy: 0.9527\n",
            "Epoch 7/15\n",
            "1875/1875 [==============================] - 9s 5ms/step - loss: 0.1026 - accuracy: 0.9621\n",
            "Epoch 8/15\n",
            "1875/1875 [==============================] - 9s 5ms/step - loss: 0.0849 - accuracy: 0.9688\n",
            "Epoch 9/15\n",
            "1875/1875 [==============================] - 9s 5ms/step - loss: 0.0700 - accuracy: 0.9740\n",
            "Epoch 10/15\n",
            "1875/1875 [==============================] - 9s 5ms/step - loss: 0.0585 - accuracy: 0.9789\n",
            "Epoch 11/15\n",
            "1871/1875 [============================>.] - ETA: 0s - loss: 0.0498 - accuracy: 0.9823\n",
            "Reached 98% accuracy so cancelling training!\n",
            "1875/1875 [==============================] - 9s 5ms/step - loss: 0.0498 - accuracy: 0.9823\n"
          ],
          "name": "stdout"
        }
      ]
    },
    {
      "cell_type": "code",
      "metadata": {
        "id": "_2IJU3LFGApM",
        "colab_type": "code",
        "colab": {
          "base_uri": "https://localhost:8080/",
          "height": 34
        },
        "outputId": "147fe462-c449-4678-d969-7199850bc5e7"
      },
      "source": [
        "history_dict = history.history\n",
        "history_dict.keys()"
      ],
      "execution_count": 5,
      "outputs": [
        {
          "output_type": "execute_result",
          "data": {
            "text/plain": [
              "dict_keys(['loss', 'accuracy'])"
            ]
          },
          "metadata": {
            "tags": []
          },
          "execution_count": 5
        }
      ]
    },
    {
      "cell_type": "code",
      "metadata": {
        "id": "dr6cFakQHRx3",
        "colab_type": "code",
        "colab": {
          "base_uri": "https://localhost:8080/",
          "height": 295
        },
        "outputId": "ee28fd69-7a45-468c-fd72-e19d5367ac06"
      },
      "source": [
        "accuracy = history.history[\"accuracy\"]\n",
        "loss = history.history[\"loss\"]\n",
        "epochs = range(1, len(loss) + 1)\n",
        "plt.plot(epochs, accuracy, \"b-\", label=\"Training accuracy\")\n",
        "plt.plot(epochs, loss, \"b--\", label=\"Training loss\")\n",
        "plt.title(\"Training accuracy and loss\")\n",
        "plt.xlabel(\"Epochs\")\n",
        "plt.legend()\n",
        "plt.show()"
      ],
      "execution_count": 8,
      "outputs": [
        {
          "output_type": "display_data",
          "data": {
            "image/png": "[encoded data removed]",
            "text/plain": [
              "<Figure size 432x288 with 1 Axes>"
            ]
          },
          "metadata": {
            "tags": [],
            "needs_background": "light"
          }
        }
      ]
    },
    {
      "cell_type": "code",
      "metadata": {
        "id": "fhDyHtHF0b9p",
        "colab_type": "code",
        "colab": {
          "base_uri": "https://localhost:8080/",
          "height": 357
        },
        "outputId": "fb10b304-c65d-4062-fc61-65bceb8a721a"
      },
      "source": [
        "model.summary()\n",
        "model.evaluate(test_images, test_labels)"
      ],
      "execution_count": 9,
      "outputs": [
        {
          "output_type": "stream",
          "text": [
            "Model: \"sequential\"\n",
            "_________________________________________________________________\n",
            "Layer (type)                 Output Shape              Param #   \n",
            "=================================================================\n",
            "conv2d (Conv2D)              (None, 26, 26, 64)        640       \n",
            "_________________________________________________________________\n",
            "max_pooling2d (MaxPooling2D) (None, 13, 13, 64)        0         \n",
            "_________________________________________________________________\n",
            "flatten (Flatten)            (None, 10816)             0         \n",
            "_________________________________________________________________\n",
            "dense (Dense)                (None, 128)               1384576   \n",
            "_________________________________________________________________\n",
            "dense_1 (Dense)              (None, 10)                1290      \n",
            "=================================================================\n",
            "Total params: 1,386,506\n",
            "Trainable params: 1,386,506\n",
            "Non-trainable params: 0\n",
            "_________________________________________________________________\n",
            "313/313 [==============================] - 1s 3ms/step - loss: 0.4013 - accuracy: 0.9119\n"
          ],
          "name": "stdout"
        },
        {
          "output_type": "execute_result",
          "data": {
            "text/plain": [
              "[0.40128523111343384, 0.911899983882904]"
            ]
          },
          "metadata": {
            "tags": []
          },
          "execution_count": 9
        }
      ]
    },
    {
      "cell_type": "code",
      "metadata": {
        "id": "ILE8CZZx3m8p",
        "colab_type": "code",
        "colab": {
          "base_uri": "https://localhost:8080/",
          "height": 68
        },
        "outputId": "c301d43c-0939-4c5a-8dbd-08bff92219ca"
      },
      "source": [
        "prediction = model.predict(test_images)\n",
        "\n",
        "print(prediction[6])\n",
        "print(test_labels[6])"
      ],
      "execution_count": 10,
      "outputs": [
        {
          "output_type": "stream",
          "text": [
            "[6.1613177e-13 4.6118396e-14 8.5378941e-03 4.0412766e-13 9.9146211e-01\n",
            " 2.5652516e-13 2.4729145e-09 2.9381271e-20 2.0354737e-15 2.9668308e-16]\n",
            "4\n"
          ],
          "name": "stdout"
        }
      ]
    },
    {
      "cell_type": "markdown",
      "metadata": {
        "id": "vYLFNyTbGaGb",
        "colab_type": "text"
      },
      "source": [
        "## Handwritting MNIST dataset"
      ]
    },
    {
      "cell_type": "code",
      "metadata": {
        "id": "J9xJro4p3_X0",
        "colab_type": "code",
        "colab": {}
      },
      "source": [
        "# handwritting mnist\n",
        "\n",
        "from keras.datasets import mnist\n",
        "\n",
        "(train_images, train_labels), (test_images, test_labels) = mnist.load_data()"
      ],
      "execution_count": 19,
      "outputs": []
    },
    {
      "cell_type": "code",
      "metadata": {
        "id": "vOpi309o6VzO",
        "colab_type": "code",
        "colab": {
          "base_uri": "https://localhost:8080/",
          "height": 119
        },
        "outputId": "cc75e5ff-062c-4768-e1e7-cdc138ab57c2"
      },
      "source": [
        "class callback(keras.callbacks.Callback):\n",
        "  def on_epoch_end(self, epoch, logs={}):\n",
        "    if logs.get(\"accuracy\")>=0.98:\n",
        "      print(\"\\nReached 98% accuracy so cancelling training!\")\n",
        "      self.model.stop_training = True\n",
        "\n",
        "callbacks=callback()\n",
        "\n",
        "train_images = train_images.reshape(60000, 28, 28, 1)\n",
        "train_images = train_images / 255.0\n",
        "test_images = test_images.reshape(10000, 28, 28, 1)\n",
        "test_images = test_images / 255.0\n",
        "\n",
        "model_mnist = keras.models.Sequential([\n",
        "                                       layers.Conv2D(32, (3,3), activation=\"relu\", input_shape=(28,28,1)),\n",
        "                                       layers.MaxPooling2D(2,2),\n",
        "                                       layers.Flatten(),\n",
        "                                       layers.Dense(128, activation=\"relu\"),\n",
        "                                       layers.Dense(10, activation=\"sigmoid\")])\n",
        "\n",
        "model_mnist.compile(loss=\"sparse_categorical_crossentropy\", optimizer=\"adam\", metrics=[\"accuracy\"])\n",
        "\n",
        "history = model_mnist.fit(train_images, train_labels, epochs=15, callbacks=callbacks)"
      ],
      "execution_count": 20,
      "outputs": [
        {
          "output_type": "stream",
          "text": [
            "Epoch 1/15\n",
            "1875/1875 [==============================] - 7s 4ms/step - loss: 0.1610 - accuracy: 0.9529\n",
            "Epoch 2/15\n",
            "1864/1875 [============================>.] - ETA: 0s - loss: 0.0560 - accuracy: 0.9832\n",
            "Reached 98% accuracy so cancelling training!\n",
            "1875/1875 [==============================] - 7s 4ms/step - loss: 0.0558 - accuracy: 0.9833\n"
          ],
          "name": "stdout"
        }
      ]
    },
    {
      "cell_type": "code",
      "metadata": {
        "id": "TxeZflDr7-IL",
        "colab_type": "code",
        "colab": {
          "base_uri": "https://localhost:8080/",
          "height": 51
        },
        "outputId": "8df54977-3117-4a67-cdbf-af692222a782"
      },
      "source": [
        "model_mnist.evaluate(test_images, test_labels)"
      ],
      "execution_count": 21,
      "outputs": [
        {
          "output_type": "stream",
          "text": [
            "313/313 [==============================] - 1s 3ms/step - loss: 0.0466 - accuracy: 0.9850\n"
          ],
          "name": "stdout"
        },
        {
          "output_type": "execute_result",
          "data": {
            "text/plain": [
              "[0.04663615673780441, 0.9850000143051147]"
            ]
          },
          "metadata": {
            "tags": []
          },
          "execution_count": 21
        }
      ]
    },
    {
      "cell_type": "code",
      "metadata": {
        "id": "yAQ2efKdJHcz",
        "colab_type": "code",
        "colab": {
          "base_uri": "https://localhost:8080/",
          "height": 295
        },
        "outputId": "1a4b98fe-0d3c-4aa0-f9ae-0b4058f52c66"
      },
      "source": [
        "accuracy = history.history[\"accuracy\"]\n",
        "loss = history.history[\"loss\"]\n",
        "epochs = range(1, len(loss) + 1)\n",
        "plt.plot(epochs, accuracy, \"b-\", label=\"Training accuracy\")\n",
        "plt.plot(epochs, loss, \"b--\", label=\"Training loss\")\n",
        "plt.title(\"Training accuracy and loss\")\n",
        "plt.xlabel(\"Epochs\")\n",
        "plt.legend()\n",
        "plt.show()"
      ],
      "execution_count": 22,
      "outputs": [
        {
          "output_type": "display_data",
          "data": {
            "image/png": "[encoded data removed]",
            "text/plain": [
              "<Figure size 432x288 with 1 Axes>"
            ]
          },
          "metadata": {
            "tags": [],
            "needs_background": "light"
          }
        }
      ]
    },
    {
      "cell_type": "code",
      "metadata": {
        "id": "GfBvwJBz8GtP",
        "colab_type": "code",
        "colab": {
          "base_uri": "https://localhost:8080/",
          "height": 68
        },
        "outputId": "c8be4b51-340a-4cd4-c6e9-b47a711530c3"
      },
      "source": [
        "prediction = model_mnist.predict(test_images)\n",
        "print(prediction[0])\n",
        "print(test_labels[0])"
      ],
      "execution_count": 24,
      "outputs": [
        {
          "output_type": "stream",
          "text": [
            "[8.7991839e-07 1.1997810e-06 6.8275367e-05 2.7496199e-05 8.3028465e-07\n",
            " 4.8765128e-07 1.4905226e-10 9.1615474e-01 5.9759500e-06 3.2134121e-05]\n",
            "7\n"
          ],
          "name": "stdout"
        }
      ]
    },
    {
      "cell_type": "code",
      "metadata": {
        "id": "NyhTYw9kJrzs",
        "colab_type": "code",
        "colab": {}
      },
      "source": [
        ""
      ],
      "execution_count": null,
      "outputs": []
    }
  ]
}