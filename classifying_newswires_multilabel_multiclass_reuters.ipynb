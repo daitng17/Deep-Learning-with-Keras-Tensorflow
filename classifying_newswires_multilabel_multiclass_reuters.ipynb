{
  "nbformat": 4,
  "nbformat_minor": 0,
  "metadata": {
    "colab": {
      "name": "classifying_newswires_multilabel_multiclass_reuters.ipynb",
      "provenance": [],
      "collapsed_sections": [],
      "authorship_tag": "ABX9TyOGswZpI0jhsIDxoZ/wnr4o",
      "include_colab_link": true
    },
    "kernelspec": {
      "name": "python3",
      "display_name": "Python 3"
    }
  },
  "cells": [
    {
      "cell_type": "markdown",
      "metadata": {
        "id": "view-in-github",
        "colab_type": "text"
      },
      "source": [
        "<a href=\"https://colab.research.google.com/github/thanhdtnguyen/Deep-Learning-with-Keras-Tensorflow/blob/master/classifying_newswires_multilabel_multiclass_reuters.ipynb\" target=\"_parent\"><img src=\"https://colab.research.google.com/assets/colab-badge.svg\" alt=\"Open In Colab\"/></a>"
      ]
    },
    {
      "cell_type": "markdown",
      "metadata": {
        "id": "uLSvlKmIg2OK",
        "colab_type": "text"
      },
      "source": [
        "### Multilabel, multiclass classification\n",
        "#### 46 classes"
      ]
    },
    {
      "cell_type": "code",
      "metadata": {
        "id": "5Ndd9qvBf5kk",
        "colab_type": "code",
        "colab": {}
      },
      "source": [
        "import tensorflow as tf \n",
        "import numpy as np\n",
        "import matplotlib.pyplot as plt\n",
        "from tensorflow import keras\n",
        "from tensorflow.keras import layers\n",
        "\n",
        "from tensorflow.keras.datasets import reuters"
      ],
      "execution_count": 1,
      "outputs": []
    },
    {
      "cell_type": "code",
      "metadata": {
        "id": "eHb7EQeJiDj9",
        "colab_type": "code",
        "colab": {
          "base_uri": "https://localhost:8080/",
          "height": 51
        },
        "outputId": "8e0d1be6-a240-4106-8501-fe23b18d2ae6"
      },
      "source": [
        "(train_data, train_labels), (test_data, test_labels) = reuters.load_data(num_words=10000)"
      ],
      "execution_count": 2,
      "outputs": [
        {
          "output_type": "stream",
          "text": [
            "Downloading data from https://storage.googleapis.com/tensorflow/tf-keras-datasets/reuters.npz\n",
            "2113536/2110848 [==============================] - 0s 0us/step\n"
          ],
          "name": "stdout"
        }
      ]
    },
    {
      "cell_type": "code",
      "metadata": {
        "id": "4QTALP2HiQK-",
        "colab_type": "code",
        "colab": {
          "base_uri": "https://localhost:8080/",
          "height": 51
        },
        "outputId": "2332a0b3-edac-49ec-b0f7-f435e87a187e"
      },
      "source": [
        "print(len(train_data))\n",
        "print(len(test_data))"
      ],
      "execution_count": 3,
      "outputs": [
        {
          "output_type": "stream",
          "text": [
            "8982\n",
            "2246\n"
          ],
          "name": "stdout"
        }
      ]
    },
    {
      "cell_type": "code",
      "metadata": {
        "id": "MoLqPCgiidlw",
        "colab_type": "code",
        "colab": {
          "base_uri": "https://localhost:8080/",
          "height": 71
        },
        "outputId": "cec78259-c3d2-41cb-b93f-750ddbf24d45"
      },
      "source": [
        "print(train_data[0])\n",
        "print(train_labels[0])"
      ],
      "execution_count": 6,
      "outputs": [
        {
          "output_type": "stream",
          "text": [
            "[1, 2, 2, 8, 43, 10, 447, 5, 25, 207, 270, 5, 3095, 111, 16, 369, 186, 90, 67, 7, 89, 5, 19, 102, 6, 19, 124, 15, 90, 67, 84, 22, 482, 26, 7, 48, 4, 49, 8, 864, 39, 209, 154, 6, 151, 6, 83, 11, 15, 22, 155, 11, 15, 7, 48, 9, 4579, 1005, 504, 6, 258, 6, 272, 11, 15, 22, 134, 44, 11, 15, 16, 8, 197, 1245, 90, 67, 52, 29, 209, 30, 32, 132, 6, 109, 15, 17, 12]\n",
            "3\n"
          ],
          "name": "stdout"
        }
      ]
    },
    {
      "cell_type": "code",
      "metadata": {
        "id": "WYt2gYMHihNx",
        "colab_type": "code",
        "colab": {}
      },
      "source": [
        "def vectorize_sequence(sequences, dimension=10000):\n",
        "  results = np.zeros((len(sequences), dimension))\n",
        "  for i, sequence in enumerate(sequences):\n",
        "    results[i, sequence] = 1.\n",
        "  return results \n",
        "\n",
        "x_train = vectorize_sequence(train_data)\n",
        "x_test = vectorize_sequence(test_data)"
      ],
      "execution_count": 11,
      "outputs": []
    },
    {
      "cell_type": "code",
      "metadata": {
        "id": "QbvpvQJ-lXhc",
        "colab_type": "code",
        "colab": {}
      },
      "source": [
        "def vectorize_label(labels, dimension=46):\n",
        "  results = np.zeros((len(labels), dimension))\n",
        "  for i, label in enumerate(labels):\n",
        "    results[i, label] = 1.\n",
        "  return results\n",
        "\n",
        "y_train = vectorize_label(train_labels)\n",
        "y_test = vectorize_label(test_labels)"
      ],
      "execution_count": 13,
      "outputs": []
    },
    {
      "cell_type": "code",
      "metadata": {
        "id": "SM_O2AoqmHw8",
        "colab_type": "code",
        "colab": {}
      },
      "source": [
        "# build-in way to prepare the data in Keras\n",
        "\n",
        "# from tensorflow.keras.utils import to_categorical \n",
        "# y_train = to_categorical(train_labels)\n",
        "# y_test = to_categorical(test_labels)\n",
        "\n",
        "# another way to encode the labels: to cast them as an interger tensor\n",
        "\n",
        "# y_train = np.array(train_labels)\n",
        "# y_test = np.array(test_labels)\n",
        "# loss = \"sparse_categorical_crossentropy\""
      ],
      "execution_count": 36,
      "outputs": []
    },
    {
      "cell_type": "code",
      "metadata": {
        "id": "dJTqNoChnezL",
        "colab_type": "code",
        "colab": {}
      },
      "source": [
        "# build model and compiler\n",
        "\n",
        "model = keras.models.Sequential([layers.Dense(64, activation=\"relu\"),\n",
        "                                 layers.Dense(64, activation=\"relu\"),\n",
        "                                 layers.Dense(46, activation=\"softmax\")])\n",
        "\n",
        "model.compile(optimizer=\"rmsprop\", loss=\"categorical_crossentropy\", metrics=[\"accuracy\"])"
      ],
      "execution_count": 17,
      "outputs": []
    },
    {
      "cell_type": "code",
      "metadata": {
        "id": "pHkMWw0TooJx",
        "colab_type": "code",
        "colab": {}
      },
      "source": [
        "# create validation set\n",
        "\n",
        "x_val = x_train[:1000]\n",
        "partial_x_train = x_train[1000:]\n",
        "y_val = y_train[:1000]\n",
        "partial_y_train = y_train[1000:]"
      ],
      "execution_count": 18,
      "outputs": []
    },
    {
      "cell_type": "code",
      "metadata": {
        "id": "agCbhF_go5i4",
        "colab_type": "code",
        "colab": {
          "base_uri": "https://localhost:8080/",
          "height": 697
        },
        "outputId": "b091ecef-41c3-4307-ceb3-7f2e14c6c88e"
      },
      "source": [
        "# train the model\n",
        "\n",
        "history = model.fit(partial_x_train, partial_y_train,\n",
        "                    epochs=20,\n",
        "                    batch_size=512,\n",
        "                    validation_data=(x_val, y_val))"
      ],
      "execution_count": 19,
      "outputs": [
        {
          "output_type": "stream",
          "text": [
            "Epoch 1/20\n",
            "16/16 [==============================] - 1s 53ms/step - loss: 2.6279 - accuracy: 0.4838 - val_loss: 1.7851 - val_accuracy: 0.5980\n",
            "Epoch 2/20\n",
            "16/16 [==============================] - 1s 45ms/step - loss: 1.4652 - accuracy: 0.6840 - val_loss: 1.3466 - val_accuracy: 0.6970\n",
            "Epoch 3/20\n",
            "16/16 [==============================] - 1s 43ms/step - loss: 1.0664 - accuracy: 0.7679 - val_loss: 1.1394 - val_accuracy: 0.7580\n",
            "Epoch 4/20\n",
            "16/16 [==============================] - 1s 43ms/step - loss: 0.8186 - accuracy: 0.8286 - val_loss: 1.0202 - val_accuracy: 0.7880\n",
            "Epoch 5/20\n",
            "16/16 [==============================] - 1s 43ms/step - loss: 0.6397 - accuracy: 0.8706 - val_loss: 0.9437 - val_accuracy: 0.7940\n",
            "Epoch 6/20\n",
            "16/16 [==============================] - 1s 43ms/step - loss: 0.5103 - accuracy: 0.8964 - val_loss: 0.8972 - val_accuracy: 0.8160\n",
            "Epoch 7/20\n",
            "16/16 [==============================] - 1s 42ms/step - loss: 0.4066 - accuracy: 0.9168 - val_loss: 0.8808 - val_accuracy: 0.8100\n",
            "Epoch 8/20\n",
            "16/16 [==============================] - 1s 42ms/step - loss: 0.3313 - accuracy: 0.9326 - val_loss: 0.8830 - val_accuracy: 0.8150\n",
            "Epoch 9/20\n",
            "16/16 [==============================] - 1s 42ms/step - loss: 0.2764 - accuracy: 0.9401 - val_loss: 0.9069 - val_accuracy: 0.8070\n",
            "Epoch 10/20\n",
            "16/16 [==============================] - 1s 42ms/step - loss: 0.2342 - accuracy: 0.9464 - val_loss: 0.9008 - val_accuracy: 0.8200\n",
            "Epoch 11/20\n",
            "16/16 [==============================] - 1s 42ms/step - loss: 0.2035 - accuracy: 0.9501 - val_loss: 0.9300 - val_accuracy: 0.8090\n",
            "Epoch 12/20\n",
            "16/16 [==============================] - 1s 42ms/step - loss: 0.1765 - accuracy: 0.9524 - val_loss: 0.9246 - val_accuracy: 0.8170\n",
            "Epoch 13/20\n",
            "16/16 [==============================] - 1s 43ms/step - loss: 0.1625 - accuracy: 0.9533 - val_loss: 0.9424 - val_accuracy: 0.8160\n",
            "Epoch 14/20\n",
            "16/16 [==============================] - 1s 42ms/step - loss: 0.1471 - accuracy: 0.9546 - val_loss: 1.0374 - val_accuracy: 0.7960\n",
            "Epoch 15/20\n",
            "16/16 [==============================] - 1s 41ms/step - loss: 0.1366 - accuracy: 0.9553 - val_loss: 1.0388 - val_accuracy: 0.8120\n",
            "Epoch 16/20\n",
            "16/16 [==============================] - 1s 44ms/step - loss: 0.1302 - accuracy: 0.9567 - val_loss: 1.0179 - val_accuracy: 0.8130\n",
            "Epoch 17/20\n",
            "16/16 [==============================] - 1s 43ms/step - loss: 0.1243 - accuracy: 0.9551 - val_loss: 1.0262 - val_accuracy: 0.8070\n",
            "Epoch 18/20\n",
            "16/16 [==============================] - 1s 43ms/step - loss: 0.1187 - accuracy: 0.9577 - val_loss: 1.0669 - val_accuracy: 0.8020\n",
            "Epoch 19/20\n",
            "16/16 [==============================] - 1s 41ms/step - loss: 0.1103 - accuracy: 0.9583 - val_loss: 1.0969 - val_accuracy: 0.7970\n",
            "Epoch 20/20\n",
            "16/16 [==============================] - 1s 42ms/step - loss: 0.1110 - accuracy: 0.9578 - val_loss: 1.1022 - val_accuracy: 0.7970\n"
          ],
          "name": "stdout"
        }
      ]
    },
    {
      "cell_type": "code",
      "metadata": {
        "id": "Sr5qrgQTpWwp",
        "colab_type": "code",
        "colab": {
          "base_uri": "https://localhost:8080/",
          "height": 34
        },
        "outputId": "76bc7501-9de0-47a0-9d7a-719077ae77ed"
      },
      "source": [
        "history_dict = history.history\n",
        "history_dict.keys()"
      ],
      "execution_count": 20,
      "outputs": [
        {
          "output_type": "execute_result",
          "data": {
            "text/plain": [
              "dict_keys(['loss', 'accuracy', 'val_loss', 'val_accuracy'])"
            ]
          },
          "metadata": {
            "tags": []
          },
          "execution_count": 20
        }
      ]
    },
    {
      "cell_type": "code",
      "metadata": {
        "id": "bX6dZbrHqUcX",
        "colab_type": "code",
        "colab": {
          "base_uri": "https://localhost:8080/",
          "height": 295
        },
        "outputId": "7460881a-24be-432c-d583-d888f80cc4b1"
      },
      "source": [
        "loss = history.history[\"loss\"]\n",
        "val_loss = history.history[\"val_loss\"]\n",
        "epochs = range(1, len(loss) + 1)\n",
        "plt.plot(epochs, loss, \"bo\", label=\"Training loss\")\n",
        "plt.plot(epochs, val_loss, \"b\", label=\"Validation loss\")\n",
        "plt.title(\"Training and validation loss\")\n",
        "plt.xlabel(\"Epochs\")\n",
        "plt.ylabel(\"Loss\")\n",
        "plt.legend()\n",
        "plt.show()"
      ],
      "execution_count": 22,
      "outputs": [
        {
          "output_type": "display_data",
          "data": {
            "image/png": "[encoded data removed]",
            "text/plain": [
              "<Figure size 432x288 with 1 Axes>"
            ]
          },
          "metadata": {
            "tags": [],
            "needs_background": "light"
          }
        }
      ]
    },
    {
      "cell_type": "code",
      "metadata": {
        "id": "o6mTSQ6YrvzI",
        "colab_type": "code",
        "colab": {
          "base_uri": "https://localhost:8080/",
          "height": 295
        },
        "outputId": "10913b63-e820-4bfd-f694-b54db00c6876"
      },
      "source": [
        "plt.clf()\n",
        "accuracy = history.history[\"accuracy\"]\n",
        "val_accuracy = history.history[\"val_accuracy\"]\n",
        "plt.plot(epochs, accuracy, \"bo\", label=\"Training accuracy\")\n",
        "plt.plot(epochs, val_accuracy, \"b\", label=\"Validation accuracy\")\n",
        "plt.title(\"Training and validation accuracy\")\n",
        "plt.xlabel(\"Epochs\")\n",
        "plt.ylabel(\"Accuracy\")\n",
        "plt.legend()\n",
        "plt.show()"
      ],
      "execution_count": 23,
      "outputs": [
        {
          "output_type": "display_data",
          "data": {
            "image/png": "[encoded data removed]",
            "text/plain": [
              "<Figure size 432x288 with 1 Axes>"
            ]
          },
          "metadata": {
            "tags": [],
            "needs_background": "light"
          }
        }
      ]
    },
    {
      "cell_type": "code",
      "metadata": {
        "id": "tpfHI0BxswPd",
        "colab_type": "code",
        "colab": {
          "base_uri": "https://localhost:8080/",
          "height": 374
        },
        "outputId": "9203b07e-8138-45ba-803e-3659aed4aa44"
      },
      "source": [
        "# retrain the model until 10th epoch\n",
        "\n",
        "model = keras.models.Sequential([layers.Dense(64, activation=\"relu\"),\n",
        "                                 layers.Dense(64, activation=\"relu\"),\n",
        "                                 layers.Dense(46, activation=\"softmax\")])\n",
        "\n",
        "model.compile(loss=\"categorical_crossentropy\", optimizer=\"rmsprop\", metrics=[\"accuracy\"])\n",
        "\n",
        "model.fit(partial_x_train, partial_y_train,\n",
        "          epochs = 10,\n",
        "          batch_size = 512,\n",
        "          validation_data = (x_val, y_val))\n",
        "results = model.evaluate(x_test, y_test)"
      ],
      "execution_count": 49,
      "outputs": [
        {
          "output_type": "stream",
          "text": [
            "Epoch 1/10\n",
            "16/16 [==============================] - 1s 49ms/step - loss: 2.7521 - accuracy: 0.4635 - val_loss: 1.7790 - val_accuracy: 0.6570\n",
            "Epoch 2/10\n",
            "16/16 [==============================] - 1s 41ms/step - loss: 1.4500 - accuracy: 0.7115 - val_loss: 1.3171 - val_accuracy: 0.7300\n",
            "Epoch 3/10\n",
            "16/16 [==============================] - 1s 43ms/step - loss: 1.0680 - accuracy: 0.7780 - val_loss: 1.1419 - val_accuracy: 0.7510\n",
            "Epoch 4/10\n",
            "16/16 [==============================] - 1s 43ms/step - loss: 0.8444 - accuracy: 0.8207 - val_loss: 1.0521 - val_accuracy: 0.7710\n",
            "Epoch 5/10\n",
            "16/16 [==============================] - 1s 41ms/step - loss: 0.6796 - accuracy: 0.8544 - val_loss: 0.9779 - val_accuracy: 0.7950\n",
            "Epoch 6/10\n",
            "16/16 [==============================] - 1s 41ms/step - loss: 0.5479 - accuracy: 0.8846 - val_loss: 0.9468 - val_accuracy: 0.7960\n",
            "Epoch 7/10\n",
            "16/16 [==============================] - 1s 42ms/step - loss: 0.4469 - accuracy: 0.9053 - val_loss: 0.9125 - val_accuracy: 0.8100\n",
            "Epoch 8/10\n",
            "16/16 [==============================] - 1s 43ms/step - loss: 0.3640 - accuracy: 0.9219 - val_loss: 0.9086 - val_accuracy: 0.8110\n",
            "Epoch 9/10\n",
            "16/16 [==============================] - 1s 41ms/step - loss: 0.3010 - accuracy: 0.9340 - val_loss: 0.9125 - val_accuracy: 0.8120\n",
            "Epoch 10/10\n",
            "16/16 [==============================] - 1s 41ms/step - loss: 0.2585 - accuracy: 0.9406 - val_loss: 0.9013 - val_accuracy: 0.8200\n",
            "71/71 [==============================] - 0s 3ms/step - loss: 0.9774 - accuracy: 0.7988\n"
          ],
          "name": "stdout"
        }
      ]
    },
    {
      "cell_type": "code",
      "metadata": {
        "id": "MXlrpMywzEU-",
        "colab_type": "code",
        "colab": {}
      },
      "source": [
        "model.save(\"multiclass_reuters_model.h5\")"
      ],
      "execution_count": 50,
      "outputs": []
    },
    {
      "cell_type": "code",
      "metadata": {
        "id": "_-V2X5qhts6h",
        "colab_type": "code",
        "colab": {
          "base_uri": "https://localhost:8080/",
          "height": 34
        },
        "outputId": "417cc4cd-fa80-495c-a1c2-fab016c04e2d"
      },
      "source": [
        "# test the accuracy of a random baseline\n",
        "\n",
        "import copy\n",
        "test_labels_copy = copy.copy(test_labels)\n",
        "np.random.shuffle(test_labels_copy)\n",
        "hits_array = np.array(test_labels) == np.array(test_labels_copy)\n",
        "float(np.sum(hits_array))/len(test_labels)"
      ],
      "execution_count": 26,
      "outputs": [
        {
          "output_type": "execute_result",
          "data": {
            "text/plain": [
              "0.1856634016028495"
            ]
          },
          "metadata": {
            "tags": []
          },
          "execution_count": 26
        }
      ]
    },
    {
      "cell_type": "code",
      "metadata": {
        "id": "Mw0Uo2D_ubfB",
        "colab_type": "code",
        "colab": {
          "base_uri": "https://localhost:8080/",
          "height": 68
        },
        "outputId": "55f9243f-f247-4c32-89e0-0f35ceb35f3a"
      },
      "source": [
        "# prediction\n",
        "\n",
        "predictions = model.predict(x_test)\n",
        "print(predictions[0].shape)\n",
        "print(np.sum(predictions[0]))\n",
        "print(np.argmax(predictions[0]))"
      ],
      "execution_count": 35,
      "outputs": [
        {
          "output_type": "stream",
          "text": [
            "(46,)\n",
            "0.99999994\n",
            "3\n"
          ],
          "name": "stdout"
        }
      ]
    },
    {
      "cell_type": "code",
      "metadata": {
        "id": "at-mq-FBuzBU",
        "colab_type": "code",
        "colab": {
          "base_uri": "https://localhost:8080/",
          "height": 374
        },
        "outputId": "70d2aecf-0b21-4e7f-e3e9-956bf1aa7b40"
      },
      "source": [
        "# retrain the model with larger layers\n",
        "\n",
        "model = keras.models.Sequential([layers.Dense(128, activation=\"relu\"),\n",
        "                                 layers.Dense(128, activation=\"relu\"),\n",
        "                                 layers.Dense(46, activation=\"softmax\")])\n",
        "\n",
        "model.compile(loss=\"categorical_crossentropy\", optimizer=\"rmsprop\", metrics=[\"accuracy\"])\n",
        "\n",
        "model.fit(partial_x_train, partial_y_train,\n",
        "          epochs = 10,\n",
        "          batch_size = 512,\n",
        "          validation_data = (x_val, y_val))\n",
        "results = model.evaluate(x_test, y_test)"
      ],
      "execution_count": 48,
      "outputs": [
        {
          "output_type": "stream",
          "text": [
            "Epoch 1/10\n",
            "16/16 [==============================] - 1s 77ms/step - loss: 2.2092 - accuracy: 0.5469 - val_loss: 1.4106 - val_accuracy: 0.6650\n",
            "Epoch 2/10\n",
            "16/16 [==============================] - 1s 66ms/step - loss: 1.1251 - accuracy: 0.7565 - val_loss: 1.0978 - val_accuracy: 0.7770\n",
            "Epoch 3/10\n",
            "16/16 [==============================] - 1s 67ms/step - loss: 0.8026 - accuracy: 0.8282 - val_loss: 0.9997 - val_accuracy: 0.7940\n",
            "Epoch 4/10\n",
            "16/16 [==============================] - 1s 66ms/step - loss: 0.5763 - accuracy: 0.8807 - val_loss: 1.0074 - val_accuracy: 0.7840\n",
            "Epoch 5/10\n",
            "16/16 [==============================] - 1s 66ms/step - loss: 0.4238 - accuracy: 0.9079 - val_loss: 0.9038 - val_accuracy: 0.8120\n",
            "Epoch 6/10\n",
            "16/16 [==============================] - 1s 67ms/step - loss: 0.3193 - accuracy: 0.9311 - val_loss: 0.9062 - val_accuracy: 0.8000\n",
            "Epoch 7/10\n",
            "16/16 [==============================] - 1s 68ms/step - loss: 0.2583 - accuracy: 0.9434 - val_loss: 0.9155 - val_accuracy: 0.8100\n",
            "Epoch 8/10\n",
            "16/16 [==============================] - 1s 67ms/step - loss: 0.2054 - accuracy: 0.9500 - val_loss: 0.9841 - val_accuracy: 0.8110\n",
            "Epoch 9/10\n",
            "16/16 [==============================] - 1s 68ms/step - loss: 0.1816 - accuracy: 0.9509 - val_loss: 1.0077 - val_accuracy: 0.7920\n",
            "Epoch 10/10\n",
            "16/16 [==============================] - 1s 68ms/step - loss: 0.1664 - accuracy: 0.9508 - val_loss: 0.9979 - val_accuracy: 0.7960\n",
            "71/71 [==============================] - 0s 3ms/step - loss: 1.1110 - accuracy: 0.7858\n"
          ],
          "name": "stdout"
        }
      ]
    },
    {
      "cell_type": "code",
      "metadata": {
        "id": "wUGdDtj9xBZz",
        "colab_type": "code",
        "colab": {}
      },
      "source": [
        ""
      ],
      "execution_count": null,
      "outputs": []
    }
  ]
}